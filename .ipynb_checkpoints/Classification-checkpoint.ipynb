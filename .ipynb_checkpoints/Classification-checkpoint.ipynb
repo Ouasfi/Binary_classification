{
 "cells": [
  {
   "cell_type": "markdown",
   "metadata": {},
   "source": [
    "# Classification of chronic kidney desease"
   ]
  },
  {
   "cell_type": "markdown",
   "metadata": {},
   "source": [
    "**Kidney disease** is defined as a heterogeneous group of disorders affecting kidney structure and function. It is recognized now that even mild abnormalities in measures of kidney structure and function are associated with increased risk for developing complications in other organ systems as well as mortality, all of which occur far more frequently than kidney failure. Duration of greater than 3 months is defined as chronic."
   ]
  },
  {
   "cell_type": "markdown",
   "metadata": {},
   "source": [
    "\n",
    "**Chronic kidney disease data:** Data used in this experiment can be found  <a href=\"https://archive.ics.uci.edu/ml/datasets/chronic_kidney_disease\"> here </a>. Here is a summary of the features that influence kidney disease from   <a href=\"https://rdcu.be/b3Jy2\"> Elhoseny, M et al2019 </a> article."
   ]
  },
  {
   "cell_type": "markdown",
   "metadata": {},
   "source": [
    "<img src=\"https://media.springernature.com/full/springer-static/image/art%3A10.1038%2Fs41598-019-46074-2/MediaObjects/41598_2019_46074_Fig6_HTML.png\" width=700 height=700 />\n"
   ]
  },
  {
   "cell_type": "code",
   "execution_count": 65,
   "metadata": {},
   "outputs": [],
   "source": [
    "import warnings\n",
    "warnings.filterwarnings('ignore')"
   ]
  },
  {
   "cell_type": "code",
   "execution_count": 1,
   "metadata": {
    "scrolled": true
   },
   "outputs": [
    {
     "name": "stderr",
     "output_type": "stream",
     "text": [
      "Using TensorFlow backend.\n"
     ]
    }
   ],
   "source": [
    "import numpy as np \n",
    "import pandas as pd\n",
    "import models as m\n",
    "from model_selection import *\n",
    "import seaborn as sns"
   ]
  },
  {
   "cell_type": "code",
   "execution_count": 2,
   "metadata": {},
   "outputs": [],
   "source": [
    "from sklearn.preprocessing import LabelEncoder, OneHotEncoder\n",
    "from sklearn import decomposition\n",
    "from sklearn import preprocessing\n",
    "import matplotlib.pyplot as plt\n",
    "from mpl_toolkits.mplot3d import Axes3D\n",
    "\n",
    "def Processing(path):\n",
    "    \"\"\"\n",
    "\n",
    "    Clean the data by replacing the na_values by the mean \n",
    "    of the associated column. Take the path as argument.\n",
    "    \"\"\"\n",
    "    data = pd.read_csv(path, na_values='?')\n",
    "    for i in data.columns:\n",
    "        for j in data[i]:\n",
    "            if(isinstance(j,str)):\n",
    "                l = [x for x in data[i].unique() if str(x) != 'nan']\n",
    "                le = LabelEncoder()\n",
    "                le.fit(l)\n",
    "                y = le.transform(l)\n",
    "                for k in range(len(l)):\n",
    "                    data[i].replace(l[k],y[k], inplace = True)\n",
    "    data.fillna(round(data.mean(), 2), inplace=True)\n",
    "    data.to_csv(\"test.csv\", sep=',', index=False)\n",
    "\n",
    "Processing('data/ckd.csv')\n",
    "\n",
    "data = pd.read_csv('test.csv',sep=',')"
   ]
  },
  {
   "cell_type": "code",
   "execution_count": 3,
   "metadata": {
    "scrolled": false
   },
   "outputs": [
    {
     "name": "stdout",
     "output_type": "stream",
     "text": [
      "<class 'pandas.core.frame.DataFrame'>\n",
      "RangeIndex: 400 entries, 0 to 399\n",
      "Data columns (total 25 columns):\n",
      "Age      400 non-null float64\n",
      "Bp       400 non-null float64\n",
      "Sg       400 non-null float64\n",
      "Al       400 non-null float64\n",
      "Su       400 non-null float64\n",
      "Rbc      400 non-null float64\n",
      "Pc       400 non-null float64\n",
      "Pcc      400 non-null float64\n",
      "Ba       400 non-null float64\n",
      "Bgr      400 non-null float64\n",
      "Bu       400 non-null float64\n",
      "Sc       400 non-null float64\n",
      "Sod      400 non-null float64\n",
      "Pot      400 non-null float64\n",
      "Hemo     400 non-null float64\n",
      "Pcv      400 non-null float64\n",
      "Wbcc     400 non-null float64\n",
      "Rbcc     400 non-null float64\n",
      "Htn      400 non-null float64\n",
      "Dm       400 non-null int64\n",
      "Cad      400 non-null float64\n",
      "Appet    400 non-null float64\n",
      "pe       400 non-null float64\n",
      "Ane      400 non-null float64\n",
      "Class    400 non-null int64\n",
      "dtypes: float64(23), int64(2)\n",
      "memory usage: 78.2 KB\n"
     ]
    }
   ],
   "source": [
    "data.info()"
   ]
  },
  {
   "cell_type": "code",
   "execution_count": 4,
   "metadata": {},
   "outputs": [
    {
     "data": {
      "text/html": [
       "<div>\n",
       "<style scoped>\n",
       "    .dataframe tbody tr th:only-of-type {\n",
       "        vertical-align: middle;\n",
       "    }\n",
       "\n",
       "    .dataframe tbody tr th {\n",
       "        vertical-align: top;\n",
       "    }\n",
       "\n",
       "    .dataframe thead th {\n",
       "        text-align: right;\n",
       "    }\n",
       "</style>\n",
       "<table border=\"1\" class=\"dataframe\">\n",
       "  <thead>\n",
       "    <tr style=\"text-align: right;\">\n",
       "      <th></th>\n",
       "      <th>Age</th>\n",
       "      <th>Bp</th>\n",
       "      <th>Sg</th>\n",
       "      <th>Al</th>\n",
       "      <th>Su</th>\n",
       "      <th>Rbc</th>\n",
       "      <th>Pc</th>\n",
       "      <th>Pcc</th>\n",
       "      <th>Ba</th>\n",
       "      <th>Bgr</th>\n",
       "      <th>...</th>\n",
       "      <th>Pcv</th>\n",
       "      <th>Wbcc</th>\n",
       "      <th>Rbcc</th>\n",
       "      <th>Htn</th>\n",
       "      <th>Dm</th>\n",
       "      <th>Cad</th>\n",
       "      <th>Appet</th>\n",
       "      <th>pe</th>\n",
       "      <th>Ane</th>\n",
       "      <th>Class</th>\n",
       "    </tr>\n",
       "  </thead>\n",
       "  <tbody>\n",
       "    <tr>\n",
       "      <th>0</th>\n",
       "      <td>48.0</td>\n",
       "      <td>80.0</td>\n",
       "      <td>1.020</td>\n",
       "      <td>1.0</td>\n",
       "      <td>0.0</td>\n",
       "      <td>0.81</td>\n",
       "      <td>1.0</td>\n",
       "      <td>0.0</td>\n",
       "      <td>0.0</td>\n",
       "      <td>121.00</td>\n",
       "      <td>...</td>\n",
       "      <td>44.0</td>\n",
       "      <td>7800.0</td>\n",
       "      <td>5.20</td>\n",
       "      <td>1.0</td>\n",
       "      <td>1</td>\n",
       "      <td>0.0</td>\n",
       "      <td>0.0</td>\n",
       "      <td>0.0</td>\n",
       "      <td>0.0</td>\n",
       "      <td>0</td>\n",
       "    </tr>\n",
       "    <tr>\n",
       "      <th>1</th>\n",
       "      <td>7.0</td>\n",
       "      <td>50.0</td>\n",
       "      <td>1.020</td>\n",
       "      <td>4.0</td>\n",
       "      <td>0.0</td>\n",
       "      <td>0.81</td>\n",
       "      <td>1.0</td>\n",
       "      <td>0.0</td>\n",
       "      <td>0.0</td>\n",
       "      <td>148.04</td>\n",
       "      <td>...</td>\n",
       "      <td>38.0</td>\n",
       "      <td>6000.0</td>\n",
       "      <td>4.71</td>\n",
       "      <td>0.0</td>\n",
       "      <td>0</td>\n",
       "      <td>0.0</td>\n",
       "      <td>0.0</td>\n",
       "      <td>0.0</td>\n",
       "      <td>0.0</td>\n",
       "      <td>0</td>\n",
       "    </tr>\n",
       "    <tr>\n",
       "      <th>2</th>\n",
       "      <td>62.0</td>\n",
       "      <td>80.0</td>\n",
       "      <td>1.010</td>\n",
       "      <td>2.0</td>\n",
       "      <td>3.0</td>\n",
       "      <td>1.00</td>\n",
       "      <td>1.0</td>\n",
       "      <td>0.0</td>\n",
       "      <td>0.0</td>\n",
       "      <td>423.00</td>\n",
       "      <td>...</td>\n",
       "      <td>31.0</td>\n",
       "      <td>7500.0</td>\n",
       "      <td>4.71</td>\n",
       "      <td>0.0</td>\n",
       "      <td>1</td>\n",
       "      <td>0.0</td>\n",
       "      <td>1.0</td>\n",
       "      <td>0.0</td>\n",
       "      <td>1.0</td>\n",
       "      <td>0</td>\n",
       "    </tr>\n",
       "    <tr>\n",
       "      <th>3</th>\n",
       "      <td>48.0</td>\n",
       "      <td>70.0</td>\n",
       "      <td>1.005</td>\n",
       "      <td>4.0</td>\n",
       "      <td>0.0</td>\n",
       "      <td>1.00</td>\n",
       "      <td>0.0</td>\n",
       "      <td>1.0</td>\n",
       "      <td>0.0</td>\n",
       "      <td>117.00</td>\n",
       "      <td>...</td>\n",
       "      <td>32.0</td>\n",
       "      <td>6700.0</td>\n",
       "      <td>3.90</td>\n",
       "      <td>1.0</td>\n",
       "      <td>0</td>\n",
       "      <td>0.0</td>\n",
       "      <td>1.0</td>\n",
       "      <td>1.0</td>\n",
       "      <td>1.0</td>\n",
       "      <td>0</td>\n",
       "    </tr>\n",
       "    <tr>\n",
       "      <th>4</th>\n",
       "      <td>51.0</td>\n",
       "      <td>80.0</td>\n",
       "      <td>1.010</td>\n",
       "      <td>2.0</td>\n",
       "      <td>0.0</td>\n",
       "      <td>1.00</td>\n",
       "      <td>1.0</td>\n",
       "      <td>0.0</td>\n",
       "      <td>0.0</td>\n",
       "      <td>106.00</td>\n",
       "      <td>...</td>\n",
       "      <td>35.0</td>\n",
       "      <td>7300.0</td>\n",
       "      <td>4.60</td>\n",
       "      <td>0.0</td>\n",
       "      <td>0</td>\n",
       "      <td>0.0</td>\n",
       "      <td>0.0</td>\n",
       "      <td>0.0</td>\n",
       "      <td>0.0</td>\n",
       "      <td>0</td>\n",
       "    </tr>\n",
       "  </tbody>\n",
       "</table>\n",
       "<p>5 rows × 25 columns</p>\n",
       "</div>"
      ],
      "text/plain": [
       "    Age    Bp     Sg   Al   Su   Rbc   Pc  Pcc   Ba     Bgr  ...     Pcv  \\\n",
       "0  48.0  80.0  1.020  1.0  0.0  0.81  1.0  0.0  0.0  121.00  ...    44.0   \n",
       "1   7.0  50.0  1.020  4.0  0.0  0.81  1.0  0.0  0.0  148.04  ...    38.0   \n",
       "2  62.0  80.0  1.010  2.0  3.0  1.00  1.0  0.0  0.0  423.00  ...    31.0   \n",
       "3  48.0  70.0  1.005  4.0  0.0  1.00  0.0  1.0  0.0  117.00  ...    32.0   \n",
       "4  51.0  80.0  1.010  2.0  0.0  1.00  1.0  0.0  0.0  106.00  ...    35.0   \n",
       "\n",
       "     Wbcc  Rbcc  Htn  Dm  Cad  Appet   pe  Ane  Class  \n",
       "0  7800.0  5.20  1.0   1  0.0    0.0  0.0  0.0      0  \n",
       "1  6000.0  4.71  0.0   0  0.0    0.0  0.0  0.0      0  \n",
       "2  7500.0  4.71  0.0   1  0.0    1.0  0.0  1.0      0  \n",
       "3  6700.0  3.90  1.0   0  0.0    1.0  1.0  1.0      0  \n",
       "4  7300.0  4.60  0.0   0  0.0    0.0  0.0  0.0      0  \n",
       "\n",
       "[5 rows x 25 columns]"
      ]
     },
     "execution_count": 4,
     "metadata": {},
     "output_type": "execute_result"
    }
   ],
   "source": [
    "data.head()"
   ]
  },
  {
   "cell_type": "code",
   "execution_count": 107,
   "metadata": {},
   "outputs": [
    {
     "data": {
      "text/html": [
       "<div>\n",
       "<style scoped>\n",
       "    .dataframe tbody tr th:only-of-type {\n",
       "        vertical-align: middle;\n",
       "    }\n",
       "\n",
       "    .dataframe tbody tr th {\n",
       "        vertical-align: top;\n",
       "    }\n",
       "\n",
       "    .dataframe thead th {\n",
       "        text-align: right;\n",
       "    }\n",
       "</style>\n",
       "<table border=\"1\" class=\"dataframe\">\n",
       "  <thead>\n",
       "    <tr style=\"text-align: right;\">\n",
       "      <th></th>\n",
       "      <th>Age</th>\n",
       "      <th>Bp</th>\n",
       "      <th>Sg</th>\n",
       "      <th>Al</th>\n",
       "      <th>Su</th>\n",
       "      <th>Rbc</th>\n",
       "      <th>Pc</th>\n",
       "      <th>Pcc</th>\n",
       "      <th>Ba</th>\n",
       "      <th>Bgr</th>\n",
       "      <th>...</th>\n",
       "      <th>Pcv</th>\n",
       "      <th>Wbcc</th>\n",
       "      <th>Rbcc</th>\n",
       "      <th>Htn</th>\n",
       "      <th>Dm</th>\n",
       "      <th>Cad</th>\n",
       "      <th>Appet</th>\n",
       "      <th>pe</th>\n",
       "      <th>Ane</th>\n",
       "      <th>Class</th>\n",
       "    </tr>\n",
       "  </thead>\n",
       "  <tbody>\n",
       "    <tr>\n",
       "      <th>count</th>\n",
       "      <td>400.000000</td>\n",
       "      <td>400.000000</td>\n",
       "      <td>400.000000</td>\n",
       "      <td>400.000000</td>\n",
       "      <td>400.000000</td>\n",
       "      <td>400.000000</td>\n",
       "      <td>400.000000</td>\n",
       "      <td>400.000000</td>\n",
       "      <td>400.000000</td>\n",
       "      <td>400.000000</td>\n",
       "      <td>...</td>\n",
       "      <td>400.000000</td>\n",
       "      <td>400.000000</td>\n",
       "      <td>400.000000</td>\n",
       "      <td>400.000000</td>\n",
       "      <td>400.00000</td>\n",
       "      <td>400.000000</td>\n",
       "      <td>400.000000</td>\n",
       "      <td>400.000000</td>\n",
       "      <td>400.000000</td>\n",
       "      <td>400.000000</td>\n",
       "    </tr>\n",
       "    <tr>\n",
       "      <th>mean</th>\n",
       "      <td>51.483300</td>\n",
       "      <td>76.469100</td>\n",
       "      <td>1.017712</td>\n",
       "      <td>1.017300</td>\n",
       "      <td>0.450125</td>\n",
       "      <td>0.810300</td>\n",
       "      <td>0.772625</td>\n",
       "      <td>0.106100</td>\n",
       "      <td>0.055600</td>\n",
       "      <td>148.036900</td>\n",
       "      <td>...</td>\n",
       "      <td>38.883700</td>\n",
       "      <td>8406.121800</td>\n",
       "      <td>4.708275</td>\n",
       "      <td>0.369350</td>\n",
       "      <td>0.34250</td>\n",
       "      <td>0.085450</td>\n",
       "      <td>0.205525</td>\n",
       "      <td>0.190475</td>\n",
       "      <td>0.150375</td>\n",
       "      <td>0.375000</td>\n",
       "    </tr>\n",
       "    <tr>\n",
       "      <th>std</th>\n",
       "      <td>16.974966</td>\n",
       "      <td>13.476298</td>\n",
       "      <td>0.005434</td>\n",
       "      <td>1.272318</td>\n",
       "      <td>1.029487</td>\n",
       "      <td>0.308983</td>\n",
       "      <td>0.383751</td>\n",
       "      <td>0.306756</td>\n",
       "      <td>0.228199</td>\n",
       "      <td>74.782634</td>\n",
       "      <td>...</td>\n",
       "      <td>8.151082</td>\n",
       "      <td>2523.219976</td>\n",
       "      <td>0.840315</td>\n",
       "      <td>0.482023</td>\n",
       "      <td>0.47514</td>\n",
       "      <td>0.279166</td>\n",
       "      <td>0.404077</td>\n",
       "      <td>0.392677</td>\n",
       "      <td>0.357440</td>\n",
       "      <td>0.484729</td>\n",
       "    </tr>\n",
       "    <tr>\n",
       "      <th>min</th>\n",
       "      <td>2.000000</td>\n",
       "      <td>50.000000</td>\n",
       "      <td>1.005000</td>\n",
       "      <td>0.000000</td>\n",
       "      <td>0.000000</td>\n",
       "      <td>0.000000</td>\n",
       "      <td>0.000000</td>\n",
       "      <td>0.000000</td>\n",
       "      <td>0.000000</td>\n",
       "      <td>22.000000</td>\n",
       "      <td>...</td>\n",
       "      <td>9.000000</td>\n",
       "      <td>2200.000000</td>\n",
       "      <td>2.100000</td>\n",
       "      <td>0.000000</td>\n",
       "      <td>0.00000</td>\n",
       "      <td>0.000000</td>\n",
       "      <td>0.000000</td>\n",
       "      <td>0.000000</td>\n",
       "      <td>0.000000</td>\n",
       "      <td>0.000000</td>\n",
       "    </tr>\n",
       "    <tr>\n",
       "      <th>25%</th>\n",
       "      <td>42.000000</td>\n",
       "      <td>70.000000</td>\n",
       "      <td>1.015000</td>\n",
       "      <td>0.000000</td>\n",
       "      <td>0.000000</td>\n",
       "      <td>0.810000</td>\n",
       "      <td>0.770000</td>\n",
       "      <td>0.000000</td>\n",
       "      <td>0.000000</td>\n",
       "      <td>101.000000</td>\n",
       "      <td>...</td>\n",
       "      <td>34.000000</td>\n",
       "      <td>6975.000000</td>\n",
       "      <td>4.500000</td>\n",
       "      <td>0.000000</td>\n",
       "      <td>0.00000</td>\n",
       "      <td>0.000000</td>\n",
       "      <td>0.000000</td>\n",
       "      <td>0.000000</td>\n",
       "      <td>0.000000</td>\n",
       "      <td>0.000000</td>\n",
       "    </tr>\n",
       "    <tr>\n",
       "      <th>50%</th>\n",
       "      <td>54.000000</td>\n",
       "      <td>78.235000</td>\n",
       "      <td>1.020000</td>\n",
       "      <td>1.000000</td>\n",
       "      <td>0.000000</td>\n",
       "      <td>1.000000</td>\n",
       "      <td>1.000000</td>\n",
       "      <td>0.000000</td>\n",
       "      <td>0.000000</td>\n",
       "      <td>126.000000</td>\n",
       "      <td>...</td>\n",
       "      <td>38.880000</td>\n",
       "      <td>8406.120000</td>\n",
       "      <td>4.710000</td>\n",
       "      <td>0.000000</td>\n",
       "      <td>0.00000</td>\n",
       "      <td>0.000000</td>\n",
       "      <td>0.000000</td>\n",
       "      <td>0.000000</td>\n",
       "      <td>0.000000</td>\n",
       "      <td>0.000000</td>\n",
       "    </tr>\n",
       "    <tr>\n",
       "      <th>75%</th>\n",
       "      <td>64.000000</td>\n",
       "      <td>80.000000</td>\n",
       "      <td>1.020000</td>\n",
       "      <td>2.000000</td>\n",
       "      <td>0.450000</td>\n",
       "      <td>1.000000</td>\n",
       "      <td>1.000000</td>\n",
       "      <td>0.000000</td>\n",
       "      <td>0.000000</td>\n",
       "      <td>150.000000</td>\n",
       "      <td>...</td>\n",
       "      <td>44.000000</td>\n",
       "      <td>9400.000000</td>\n",
       "      <td>5.100000</td>\n",
       "      <td>1.000000</td>\n",
       "      <td>1.00000</td>\n",
       "      <td>0.000000</td>\n",
       "      <td>0.000000</td>\n",
       "      <td>0.000000</td>\n",
       "      <td>0.000000</td>\n",
       "      <td>1.000000</td>\n",
       "    </tr>\n",
       "    <tr>\n",
       "      <th>max</th>\n",
       "      <td>90.000000</td>\n",
       "      <td>180.000000</td>\n",
       "      <td>1.025000</td>\n",
       "      <td>5.000000</td>\n",
       "      <td>5.000000</td>\n",
       "      <td>1.000000</td>\n",
       "      <td>1.000000</td>\n",
       "      <td>1.000000</td>\n",
       "      <td>1.000000</td>\n",
       "      <td>490.000000</td>\n",
       "      <td>...</td>\n",
       "      <td>54.000000</td>\n",
       "      <td>26400.000000</td>\n",
       "      <td>8.000000</td>\n",
       "      <td>1.000000</td>\n",
       "      <td>1.00000</td>\n",
       "      <td>1.000000</td>\n",
       "      <td>1.000000</td>\n",
       "      <td>1.000000</td>\n",
       "      <td>1.000000</td>\n",
       "      <td>1.000000</td>\n",
       "    </tr>\n",
       "  </tbody>\n",
       "</table>\n",
       "<p>8 rows × 25 columns</p>\n",
       "</div>"
      ],
      "text/plain": [
       "              Age          Bp          Sg          Al          Su         Rbc  \\\n",
       "count  400.000000  400.000000  400.000000  400.000000  400.000000  400.000000   \n",
       "mean    51.483300   76.469100    1.017712    1.017300    0.450125    0.810300   \n",
       "std     16.974966   13.476298    0.005434    1.272318    1.029487    0.308983   \n",
       "min      2.000000   50.000000    1.005000    0.000000    0.000000    0.000000   \n",
       "25%     42.000000   70.000000    1.015000    0.000000    0.000000    0.810000   \n",
       "50%     54.000000   78.235000    1.020000    1.000000    0.000000    1.000000   \n",
       "75%     64.000000   80.000000    1.020000    2.000000    0.450000    1.000000   \n",
       "max     90.000000  180.000000    1.025000    5.000000    5.000000    1.000000   \n",
       "\n",
       "               Pc         Pcc          Ba         Bgr     ...             Pcv  \\\n",
       "count  400.000000  400.000000  400.000000  400.000000     ...      400.000000   \n",
       "mean     0.772625    0.106100    0.055600  148.036900     ...       38.883700   \n",
       "std      0.383751    0.306756    0.228199   74.782634     ...        8.151082   \n",
       "min      0.000000    0.000000    0.000000   22.000000     ...        9.000000   \n",
       "25%      0.770000    0.000000    0.000000  101.000000     ...       34.000000   \n",
       "50%      1.000000    0.000000    0.000000  126.000000     ...       38.880000   \n",
       "75%      1.000000    0.000000    0.000000  150.000000     ...       44.000000   \n",
       "max      1.000000    1.000000    1.000000  490.000000     ...       54.000000   \n",
       "\n",
       "               Wbcc        Rbcc         Htn         Dm         Cad  \\\n",
       "count    400.000000  400.000000  400.000000  400.00000  400.000000   \n",
       "mean    8406.121800    4.708275    0.369350    0.34250    0.085450   \n",
       "std     2523.219976    0.840315    0.482023    0.47514    0.279166   \n",
       "min     2200.000000    2.100000    0.000000    0.00000    0.000000   \n",
       "25%     6975.000000    4.500000    0.000000    0.00000    0.000000   \n",
       "50%     8406.120000    4.710000    0.000000    0.00000    0.000000   \n",
       "75%     9400.000000    5.100000    1.000000    1.00000    0.000000   \n",
       "max    26400.000000    8.000000    1.000000    1.00000    1.000000   \n",
       "\n",
       "            Appet          pe         Ane       Class  \n",
       "count  400.000000  400.000000  400.000000  400.000000  \n",
       "mean     0.205525    0.190475    0.150375    0.375000  \n",
       "std      0.404077    0.392677    0.357440    0.484729  \n",
       "min      0.000000    0.000000    0.000000    0.000000  \n",
       "25%      0.000000    0.000000    0.000000    0.000000  \n",
       "50%      0.000000    0.000000    0.000000    0.000000  \n",
       "75%      0.000000    0.000000    0.000000    1.000000  \n",
       "max      1.000000    1.000000    1.000000    1.000000  \n",
       "\n",
       "[8 rows x 25 columns]"
      ]
     },
     "execution_count": 107,
     "metadata": {},
     "output_type": "execute_result"
    }
   ],
   "source": [
    "data.describe()"
   ]
  },
  {
   "cell_type": "markdown",
   "metadata": {},
   "source": [
    "For the sake of visualisation let's look at the class distribution of some  numerical features. "
   ]
  },
  {
   "cell_type": "code",
   "execution_count": 6,
   "metadata": {},
   "outputs": [
    {
     "data": {
      "text/plain": [
       "<matplotlib.axes._subplots.AxesSubplot at 0x1a2d6e56d8>"
      ]
     },
     "execution_count": 6,
     "metadata": {},
     "output_type": "execute_result"
    },
    {
     "data": {
      "image/png": "[encoded data removed]",
      "text/plain": [
       "<Figure size 432x288 with 4 Axes>"
      ]
     },
     "metadata": {
      "needs_background": "light"
     },
     "output_type": "display_data"
    }
   ],
   "source": [
    "plt.subplot(221)\n",
    "sns.boxplot(x = \"Class\", y = \"Age\",data=data)\n",
    "plt.subplot(222)\n",
    "sns.boxplot(x = \"Class\", y = \"Bp\",data=data)\n",
    "plt.subplot(223)\n",
    "sns.boxplot(x = \"Class\", y = \"Wbcc\",data=data)\n",
    "plt.subplot(224)\n",
    "sns.boxplot(x = \"Class\", y = \"Hemo\",data=data)\n"
   ]
  },
  {
   "cell_type": "code",
   "execution_count": 7,
   "metadata": {},
   "outputs": [
    {
     "name": "stdout",
     "output_type": "stream",
     "text": [
      "Number of components to explain 80% of the variance: 11\n"
     ]
    },
    {
     "data": {
      "image/png": "[encoded data removed]",
      "text/plain": [
       "<Figure size 600x400 with 1 Axes>"
      ]
     },
     "metadata": {
      "needs_background": "light"
     },
     "output_type": "display_data"
    }
   ],
   "source": [
    "def PCA(Y,Nb):\n",
    "    std_scale = preprocessing.StandardScaler().fit(Y)\n",
    "    Y_scaled = std_scale.transform(Y)\n",
    "    pca = decomposition.PCA(n_components=Nb-1)\n",
    "    pca.fit(Y_scaled)\n",
    "    var=np.cumsum(np.round(pca.explained_variance_ratio_,decimals=4)*100)\n",
    "    plt.figure(dpi=100)\n",
    "    plt.xlabel('Number of Components')\n",
    "    plt.ylabel('% of Variance Explained')\n",
    "    plt.title('Plot to Find Optimal Number of Components for PCA')\n",
    "    plt.plot(var)\n",
    "    c = np.where(var > 80)[0][0]\n",
    "    y = var[c]\n",
    "    plt.hlines(y = y,xmin=  -1, xmax= c, colors = \"r\", linestyles= 'dotted')\n",
    "    plt.vlines(x = c,ymin=  0, ymax= y, colors = \"r\", linestyles= 'dotted')\n",
    "\n",
    "\n",
    "    print(\"Number of components to explain 80% of the variance:\",c)\n",
    "    return pca\n",
    "\n",
    "N=len(data.columns)\n",
    "X = data.values[:,0:N-1]\n",
    "pca=PCA(X,N)"
   ]
  },
  {
   "cell_type": "markdown",
   "metadata": {},
   "source": [
    "**Remarque**: As can be seen, the first 11 components capture nearly 80% of the variance of the data.. The figure below shows a 2d representation of the data using the  first two principal components. This yields important insights on data separability, in the linear case for instance. "
   ]
  },
  {
   "cell_type": "code",
   "execution_count": 8,
   "metadata": {},
   "outputs": [
    {
     "data": {
      "image/png": "[encoded data removed]",
      "text/plain": [
       "<Figure size 432x288 with 2 Axes>"
      ]
     },
     "metadata": {
      "needs_background": "light"
     },
     "output_type": "display_data"
    }
   ],
   "source": [
    "def plot_PCA(Y,Nb):\n",
    "    std_scale = preprocessing.StandardScaler().fit(Y)\n",
    "    Y_scaled = std_scale.transform(Y)\n",
    "    pca = decomposition.PCA(n_components=Nb-1)\n",
    "    pca.fit(Y_scaled)\n",
    "    Y_projected = pca.transform(Y_scaled)\n",
    "    plt.scatter(Y_projected[:, 0], Y_projected[:, 1], c=data.get(\"Class\"))\n",
    "    plt.colorbar()\n",
    "    plt.xlabel(\"PC1\")\n",
    "    plt.ylabel(\"PC2\")\n",
    "    \n",
    "plot_PCA(data.values[:,0:N-1],N)"
   ]
  },
  {
   "cell_type": "code",
   "execution_count": 9,
   "metadata": {},
   "outputs": [
    {
     "ename": "SyntaxError",
     "evalue": "unexpected EOF while parsing (<ipython-input-9-4ed619fb8ce4>, line 4)",
     "output_type": "error",
     "traceback": [
      "\u001b[0;36m  File \u001b[0;32m\"<ipython-input-9-4ed619fb8ce4>\"\u001b[0;36m, line \u001b[0;32m4\u001b[0m\n\u001b[0;31m    plt.ylabel(\"PC2\"\u001b[0m\n\u001b[0m                    ^\u001b[0m\n\u001b[0;31mSyntaxError\u001b[0m\u001b[0;31m:\u001b[0m unexpected EOF while parsing\n"
     ]
    }
   ],
   "source": [
    "plt.scatter(Y_projected[:, 0], Y_projected[:, 1], c=data.get(\"Class\"))\n",
    "plt.colorbar()\n",
    "plt.xlabel(\"PC1\")\n",
    "plt.ylabel(\"PC2\""
   ]
  },
  {
   "cell_type": "code",
   "execution_count": 10,
   "metadata": {},
   "outputs": [],
   "source": [
    "\n",
    "pca_new=decomposition.PCA(n_components=11)\n",
    "pca_new.fit(X)\n",
    "x_new=pca_new.transform(X)\n",
    "classe=data.get(data.columns[-1])\n",
    "x_new_df=pd.DataFrame(x_new,columns=['V1','V2','V3','V4','V5','V6','V7','V8','V9','V10','V11'])\n",
    "y_new_df=pd.DataFrame(classe,columns=['Class'])\n",
    "final_data=pd.concat([x_new_df,y_new_df],axis=1)\n",
    "\n",
    "final_data\n",
    "N=len(x_new_df.columns)"
   ]
  },
  {
   "cell_type": "code",
   "execution_count": 105,
   "metadata": {},
   "outputs": [
    {
     "data": {
      "text/html": [
       "<div>\n",
       "<style scoped>\n",
       "    .dataframe tbody tr th:only-of-type {\n",
       "        vertical-align: middle;\n",
       "    }\n",
       "\n",
       "    .dataframe tbody tr th {\n",
       "        vertical-align: top;\n",
       "    }\n",
       "\n",
       "    .dataframe thead th {\n",
       "        text-align: right;\n",
       "    }\n",
       "</style>\n",
       "<table border=\"1\" class=\"dataframe\">\n",
       "  <thead>\n",
       "    <tr style=\"text-align: right;\">\n",
       "      <th></th>\n",
       "      <th>V1</th>\n",
       "      <th>V2</th>\n",
       "      <th>V3</th>\n",
       "      <th>V4</th>\n",
       "      <th>V5</th>\n",
       "      <th>V6</th>\n",
       "      <th>V7</th>\n",
       "      <th>V8</th>\n",
       "      <th>V9</th>\n",
       "      <th>V10</th>\n",
       "      <th>V11</th>\n",
       "      <th>Class</th>\n",
       "    </tr>\n",
       "  </thead>\n",
       "  <tbody>\n",
       "    <tr>\n",
       "      <th>0</th>\n",
       "      <td>-606.237509</td>\n",
       "      <td>-27.862984</td>\n",
       "      <td>-17.172770</td>\n",
       "      <td>-0.288903</td>\n",
       "      <td>4.892120</td>\n",
       "      <td>0.009384</td>\n",
       "      <td>3.624480</td>\n",
       "      <td>-1.194351</td>\n",
       "      <td>0.774925</td>\n",
       "      <td>-1.036385</td>\n",
       "      <td>0.830714</td>\n",
       "      <td>0</td>\n",
       "    </tr>\n",
       "    <tr>\n",
       "      <th>1</th>\n",
       "      <td>-2406.168984</td>\n",
       "      <td>0.044570</td>\n",
       "      <td>-41.422789</td>\n",
       "      <td>44.494593</td>\n",
       "      <td>-13.897455</td>\n",
       "      <td>6.188367</td>\n",
       "      <td>-9.232487</td>\n",
       "      <td>0.882157</td>\n",
       "      <td>0.563347</td>\n",
       "      <td>1.912215</td>\n",
       "      <td>2.381645</td>\n",
       "      <td>0</td>\n",
       "    </tr>\n",
       "    <tr>\n",
       "      <th>2</th>\n",
       "      <td>-905.115833</td>\n",
       "      <td>274.842947</td>\n",
       "      <td>-45.541734</td>\n",
       "      <td>1.211728</td>\n",
       "      <td>-2.242907</td>\n",
       "      <td>-2.902818</td>\n",
       "      <td>-4.468655</td>\n",
       "      <td>0.464184</td>\n",
       "      <td>-0.569740</td>\n",
       "      <td>0.210606</td>\n",
       "      <td>-0.565112</td>\n",
       "      <td>0</td>\n",
       "    </tr>\n",
       "    <tr>\n",
       "      <th>3</th>\n",
       "      <td>-1706.221333</td>\n",
       "      <td>-23.954136</td>\n",
       "      <td>5.581699</td>\n",
       "      <td>1.711397</td>\n",
       "      <td>-2.443513</td>\n",
       "      <td>27.481907</td>\n",
       "      <td>-3.135206</td>\n",
       "      <td>-7.830888</td>\n",
       "      <td>1.474515</td>\n",
       "      <td>0.201703</td>\n",
       "      <td>2.561386</td>\n",
       "      <td>0</td>\n",
       "    </tr>\n",
       "    <tr>\n",
       "      <th>4</th>\n",
       "      <td>-1106.287944</td>\n",
       "      <td>-41.768812</td>\n",
       "      <td>-23.444473</td>\n",
       "      <td>-5.391480</td>\n",
       "      <td>6.355837</td>\n",
       "      <td>3.608785</td>\n",
       "      <td>-6.410933</td>\n",
       "      <td>0.406418</td>\n",
       "      <td>0.709411</td>\n",
       "      <td>0.381691</td>\n",
       "      <td>0.855814</td>\n",
       "      <td>0</td>\n",
       "    </tr>\n",
       "  </tbody>\n",
       "</table>\n",
       "</div>"
      ],
      "text/plain": [
       "            V1          V2         V3         V4         V5         V6  \\\n",
       "0  -606.237509  -27.862984 -17.172770  -0.288903   4.892120   0.009384   \n",
       "1 -2406.168984    0.044570 -41.422789  44.494593 -13.897455   6.188367   \n",
       "2  -905.115833  274.842947 -45.541734   1.211728  -2.242907  -2.902818   \n",
       "3 -1706.221333  -23.954136   5.581699   1.711397  -2.443513  27.481907   \n",
       "4 -1106.287944  -41.768812 -23.444473  -5.391480   6.355837   3.608785   \n",
       "\n",
       "         V7        V8        V9       V10       V11  Class  \n",
       "0  3.624480 -1.194351  0.774925 -1.036385  0.830714      0  \n",
       "1 -9.232487  0.882157  0.563347  1.912215  2.381645      0  \n",
       "2 -4.468655  0.464184 -0.569740  0.210606 -0.565112      0  \n",
       "3 -3.135206 -7.830888  1.474515  0.201703  2.561386      0  \n",
       "4 -6.410933  0.406418  0.709411  0.381691  0.855814      0  "
      ]
     },
     "execution_count": 105,
     "metadata": {},
     "output_type": "execute_result"
    }
   ],
   "source": [
    "final_data.head()"
   ]
  },
  {
   "cell_type": "markdown",
   "metadata": {},
   "source": [
    "## Data preparation "
   ]
  },
  {
   "cell_type": "code",
   "execution_count": 11,
   "metadata": {},
   "outputs": [],
   "source": [
    "path = 'test.csv'\n",
    "#target_name = 'target'\n",
    "test_size= 0.3"
   ]
  },
  {
   "cell_type": "code",
   "execution_count": 46,
   "metadata": {},
   "outputs": [
    {
     "name": "stdout",
     "output_type": "stream",
     "text": [
      "X_train : (280, 24)  y_train : (280,) X_test :  (120, 24) y test :  (120,)\n"
     ]
    }
   ],
   "source": [
    "df, X, y, X_train, X_test, y_train, y_test = load_data(path, test_size = test_size)\n"
   ]
  },
  {
   "cell_type": "code",
   "execution_count": 50,
   "metadata": {},
   "outputs": [],
   "source": [
    "#from sklearn.preprocessing import label_binarize\n",
    "\n",
    "#y_train = label_binarize(y_train, classes = ['ckd', 'notckd'])\n",
    "#y_test = label_binarize(y_test, classes = ['ckd', 'notckd'])"
   ]
  },
  {
   "cell_type": "markdown",
   "metadata": {},
   "source": [
    "## Decision tree classification "
   ]
  },
  {
   "cell_type": "markdown",
   "metadata": {},
   "source": [
    "Let's first train a decision tree classifier with default parameters and evaluate it's preformance."
   ]
  },
  {
   "cell_type": "code",
   "execution_count": 51,
   "metadata": {},
   "outputs": [],
   "source": [
    "Decision_clf = m.DecisionTreeModel( train = True, X_train= X_train, y_train = y_train)"
   ]
  },
  {
   "cell_type": "code",
   "execution_count": 53,
   "metadata": {},
   "outputs": [
    {
     "data": {
      "image/png": "[encoded data removed]",
      "text/plain": [
       "<Figure size 720x720 with 1 Axes>"
      ]
     },
     "metadata": {
      "needs_background": "light"
     },
     "output_type": "display_data"
    }
   ],
   "source": [
    "from sklearn import tree\n",
    "plt.figure(figsize=(10, 10))\n",
    "\n",
    "a = tree.plot_tree(Decision_clf, feature_names= data.columns[:-1], class_names= ['ckd', 'notckd'], filled=True) \n",
    "plt.show()"
   ]
  },
  {
   "cell_type": "markdown",
   "metadata": {},
   "source": [
    "## Cross validation"
   ]
  },
  {
   "cell_type": "markdown",
   "metadata": {},
   "source": [
    "Instead of using a train/validation split, we will evaluate performance using a **cross-validation** with 10 folds. Then, the fine-tuned model will be applied on the test set in order to to compare its  performance to other models. "
   ]
  },
  {
   "cell_type": "code",
   "execution_count": 7,
   "metadata": {},
   "outputs": [
    {
     "name": "stdout",
     "output_type": "stream",
     "text": [
      "avg accuracy : 0.9358140272929228\n"
     ]
    }
   ],
   "source": [
    "results = cross_validation(Decision_clf, X,y,epochs=100, batch_size=70, n_splits=10)"
   ]
  },
  {
   "cell_type": "markdown",
   "metadata": {},
   "source": [
    "## Prediction and performance"
   ]
  },
  {
   "cell_type": "code",
   "execution_count": 160,
   "metadata": {},
   "outputs": [
    {
     "name": "stdout",
     "output_type": "stream",
     "text": [
      "Confusion Matrix: \n",
      " [[120]]\n",
      "Accuracy :  100.0\n",
      "Report : \n",
      "               precision    recall  f1-score   support\n",
      "\n",
      "           0       1.00      1.00      1.00       120\n",
      "\n",
      "   micro avg       1.00      1.00      1.00       120\n",
      "   macro avg       1.00      1.00      1.00       120\n",
      "weighted avg       1.00      1.00      1.00       120\n",
      "\n"
     ]
    }
   ],
   "source": [
    "y_pred = m.predict(Decision_clf, X_test)\n",
    "accuracy(y_test, y_pred)"
   ]
  },
  {
   "cell_type": "markdown",
   "metadata": {},
   "source": [
    "## Parameter tuning "
   ]
  },
  {
   "cell_type": "markdown",
   "metadata": {},
   "source": [
    "Here we will finetune this model using a grid search over a defined space of hyperparametres . The `search_pipeline` function uses the same cross_validation as before **on the training** set in order to find the best hyperparametre."
   ]
  },
  {
   "cell_type": "code",
   "execution_count": 71,
   "metadata": {},
   "outputs": [],
   "source": [
    "model = m.DecisionTreeModel( train = False)"
   ]
  },
  {
   "cell_type": "code",
   "execution_count": 72,
   "metadata": {},
   "outputs": [],
   "source": [
    "param_grid = {'criterion': ['gini', 'entropy'],  \n",
    "              'max_depth' : range(1,10),\n",
    "              'min_samples_leaf': range(1,10) } "
   ]
  },
  {
   "cell_type": "code",
   "execution_count": 73,
   "metadata": {},
   "outputs": [],
   "source": [
    "gs, fitted_model, pred = search_pipeline(X_train, X_test, y_train, model, param_grid ,scoring_fit = 'accuracy' )"
   ]
  },
  {
   "cell_type": "code",
   "execution_count": 11,
   "metadata": {},
   "outputs": [
    {
     "name": "stdout",
     "output_type": "stream",
     "text": [
      "les meilleurs paramètres sont  {'criterion': 'entropy', 'max_depth': 7, 'min_samples_leaf': 1}\n",
      "les meilleur score est  0.9822732012513035\n",
      "Confusion Matrix: \n",
      " [[238   1]\n",
      " [  2 171]]\n",
      "Accuracy :  99.27184466019418\n",
      "Report : \n",
      "               precision    recall  f1-score   support\n",
      "\n",
      "           0       0.99      1.00      0.99       239\n",
      "           1       0.99      0.99      0.99       173\n",
      "\n",
      "   micro avg       0.99      0.99      0.99       412\n",
      "   macro avg       0.99      0.99      0.99       412\n",
      "weighted avg       0.99      0.99      0.99       412\n",
      "\n"
     ]
    }
   ],
   "source": [
    "best_parameters = get_best_parameters (gs )\n",
    "y_pred = m.predict(fitted_model, X_test)\n",
    "accuracy(y_test, y_pred>0.5)"
   ]
  },
  {
   "cell_type": "markdown",
   "metadata": {},
   "source": [
    "# SVM"
   ]
  },
  {
   "cell_type": "code",
   "execution_count": 77,
   "metadata": {},
   "outputs": [],
   "source": [
    "data_train = X_train, y_train\n",
    "model = m.SVM( train = True, X_train= X_train, y_train = y_train, gamma= 'auto')"
   ]
  },
  {
   "cell_type": "code",
   "execution_count": 78,
   "metadata": {},
   "outputs": [
    {
     "name": "stdout",
     "output_type": "stream",
     "text": [
      "avg accuracy : 0.6035714285714284\n"
     ]
    }
   ],
   "source": [
    "results = cross_validation(model, X_train,y_train,epochs=100, batch_size=70, n_splits=10);"
   ]
  },
  {
   "cell_type": "code",
   "execution_count": 79,
   "metadata": {},
   "outputs": [
    {
     "name": "stderr",
     "output_type": "stream",
     "text": [
      "No handles with labels found to put in legend.\n"
     ]
    },
    {
     "name": "stdout",
     "output_type": "stream",
     "text": [
      "Confusion Matrix: \n",
      " [[81  0]\n",
      " [39  0]]\n",
      "Accuracy :  67.5\n",
      "Report : \n",
      "               precision    recall  f1-score   support\n",
      "\n",
      "           0       0.68      1.00      0.81        81\n",
      "           1       0.00      0.00      0.00        39\n",
      "\n",
      "    accuracy                           0.68       120\n",
      "   macro avg       0.34      0.50      0.40       120\n",
      "weighted avg       0.46      0.68      0.54       120\n",
      "\n"
     ]
    },
    {
     "data": {
      "image/png": "[encoded data removed]",
      "text/plain": [
       "<Figure size 432x288 with 1 Axes>"
      ]
     },
     "metadata": {
      "needs_background": "light"
     },
     "output_type": "display_data"
    }
   ],
   "source": [
    "y_pred = m.predict(model, X_test)\n",
    "accuracy(y_test, y_pred>0.5);\n",
    "plot_roc(y_test,y_pred>0.5);"
   ]
  },
  {
   "cell_type": "code",
   "execution_count": 21,
   "metadata": {},
   "outputs": [
    {
     "name": "stderr",
     "output_type": "stream",
     "text": [
      "No handles with labels found to put in legend.\n"
     ]
    },
    {
     "name": "stdout",
     "output_type": "stream",
     "text": [
      "les meilleurs paramètres sont  {'C': 10, 'gamma': 0.0001, 'kernel': 'rbf'}\n",
      "les meilleur score est  0.8107142857142857\n",
      "Confusion Matrix: \n",
      " [[73  8]\n",
      " [10 29]]\n",
      "Accuracy :  85.0\n",
      "Report : \n",
      "               precision    recall  f1-score   support\n",
      "\n",
      "           0       0.88      0.90      0.89        81\n",
      "           1       0.78      0.74      0.76        39\n",
      "\n",
      "    accuracy                           0.85       120\n",
      "   macro avg       0.83      0.82      0.83       120\n",
      "weighted avg       0.85      0.85      0.85       120\n",
      "\n"
     ]
    },
    {
     "data": {
      "image/png": "[encoded data removed]",
      "text/plain": [
       "<Figure size 432x288 with 1 Axes>"
      ]
     },
     "metadata": {
      "needs_background": "light"
     },
     "output_type": "display_data"
    }
   ],
   "source": [
    "# defining parameter range \n",
    "model = m.SVM(train = False)\n",
    "param_grid = {'C': [0.1, 1, 10, 100, 1000, 2000],  \n",
    "              'gamma': [1, 0.1, 0.01,0.05, 0.001, 0.0001],\n",
    "              'kernel': ['rbf']}  \n",
    "gs, fitted_model, pred = search_pipeline(X_train, X_test, y_train, model, param_grid ,scoring_fit = 'accuracy' )\n",
    "\n",
    "best_parameters = get_best_parameters (gs )\n",
    "y_pred = m.predict(fitted_model, X_test)\n",
    "accuracy(y_test, y_pred>0.5)\n",
    "plot_roc(y_test,y_pred>0.5)\n"
   ]
  },
  {
   "cell_type": "markdown",
   "metadata": {},
   "source": [
    "# Random Forest"
   ]
  },
  {
   "cell_type": "code",
   "execution_count": 22,
   "metadata": {},
   "outputs": [
    {
     "name": "stdout",
     "output_type": "stream",
     "text": [
      "Confusion Matrix: \n",
      " [[78  3]\n",
      " [ 1 38]]\n",
      "Accuracy :  96.66666666666667\n",
      "Report : \n",
      "               precision    recall  f1-score   support\n",
      "\n",
      "           0       0.99      0.96      0.97        81\n",
      "           1       0.93      0.97      0.95        39\n",
      "\n",
      "    accuracy                           0.97       120\n",
      "   macro avg       0.96      0.97      0.96       120\n",
      "weighted avg       0.97      0.97      0.97       120\n",
      "\n"
     ]
    }
   ],
   "source": [
    "data_train = X_train, y_train\n",
    "model = m.RandomForest(max_depth = 2, train = True, X_train= X_train, y_train = y_train)\n",
    "y_pred = m.predict(model, X_test)\n",
    "accuracy(y_test, y_pred)"
   ]
  },
  {
   "cell_type": "code",
   "execution_count": 23,
   "metadata": {},
   "outputs": [
    {
     "name": "stdout",
     "output_type": "stream",
     "text": [
      "avg accuracy : 0.97\n"
     ]
    }
   ],
   "source": [
    "results = cross_validation(model, X,y,epochs=100, batch_size=70, n_splits=10)"
   ]
  },
  {
   "cell_type": "code",
   "execution_count": 24,
   "metadata": {},
   "outputs": [
    {
     "name": "stdout",
     "output_type": "stream",
     "text": [
      "les meilleurs paramètres sont  {'max_depth': 6, 'n_estimators': 11, 'random_state': 42}\n",
      "les meilleur score est  0.9928571428571429\n",
      "Confusion Matrix: \n",
      " [[81  0]\n",
      " [ 0 39]]\n",
      "Accuracy :  100.0\n",
      "Report : \n",
      "               precision    recall  f1-score   support\n",
      "\n",
      "           0       1.00      1.00      1.00        81\n",
      "           1       1.00      1.00      1.00        39\n",
      "\n",
      "    accuracy                           1.00       120\n",
      "   macro avg       1.00      1.00      1.00       120\n",
      "weighted avg       1.00      1.00      1.00       120\n",
      "\n"
     ]
    },
    {
     "name": "stderr",
     "output_type": "stream",
     "text": [
      "C:\\Users\\faull\\AppData\\Local\\Continuum\\anaconda3\\lib\\site-packages\\sklearn\\model_selection\\_search.py:813: DeprecationWarning: The default of the `iid` parameter will change from True to False in version 0.22 and will be removed in 0.24. This will change numeric results when test-set sizes are unequal.\n",
      "  DeprecationWarning)\n"
     ]
    }
   ],
   "source": [
    "model = m.RandomForest(train = False)\n",
    "param_grid = {'n_estimators':[7,8,9,10,11,12,13,14,15,16],'max_depth':[2,3,4,5,6,None],\n",
    "                     'random_state':[42]}\n",
    "  \n",
    "    \n",
    "\n",
    "gs, fitted_model, pred = search_pipeline(X_train, X_test, y_train, model, param_grid ,scoring_fit = 'accuracy' )\n",
    "best_parameters = get_best_parameters (gs )\n",
    "y_pred = m.predict(fitted_model, X_test)\n",
    "accuracy(y_test, y_pred>0.5)\n"
   ]
  },
  {
   "cell_type": "markdown",
   "metadata": {},
   "source": [
    "# Neural Networks "
   ]
  },
  {
   "cell_type": "markdown",
   "metadata": {},
   "source": [
    "## Improved Multilayer perceptron"
   ]
  },
  {
   "cell_type": "code",
   "execution_count": 91,
   "metadata": {},
   "outputs": [
    {
     "name": "stdout",
     "output_type": "stream",
     "text": [
      "Test accuracy: 0.9916666746139526\n"
     ]
    }
   ],
   "source": [
    "input_shape = (X_train.shape[1],)\n",
    "MLP = m.build_MLP(input_shape = input_shape)\n",
    "history = m.train(MLP,X_train, y_train, X_test, y_test, epochs = 5)"
   ]
  },
  {
   "cell_type": "code",
   "execution_count": 86,
   "metadata": {},
   "outputs": [
    {
     "name": "stdout",
     "output_type": "stream",
     "text": [
      "Help on function cross_validation in module model_selection:\n",
      "\n",
      "cross_validation(model, X, Y, epochs=100, batch_size=70, n_splits=10, **kwargs)\n",
      "    take a keras or sklearn model and perform cross validation.\n",
      "    \n",
      "    Parameteres:\n",
      "    ___________\n",
      "    model : keras.engine.sequential.Sequential or sklearn model\n",
      "        the model upon which the cross validation is performes.\n",
      "    X, y : np array\n",
      "        correspond respectively to input and output data. \n",
      "    \n",
      "    \n",
      "    \n",
      "    Author : Amine\n",
      "\n"
     ]
    }
   ],
   "source": [
    "help(cross_validation)"
   ]
  },
  {
   "cell_type": "code",
   "execution_count": 90,
   "metadata": {},
   "outputs": [
    {
     "name": "stdout",
     "output_type": "stream",
     "text": [
      "Using Keras classifier\n",
      "avg accuracy : 1.0\n"
     ]
    },
    {
     "data": {
      "text/plain": [
       "array([1., 1., 1., 1., 1., 1., 1., 1., 1., 1.])"
      ]
     },
     "execution_count": 90,
     "metadata": {},
     "output_type": "execute_result"
    }
   ],
   "source": [
    "cross_validation( m.build_MLP(input_shape = (input_shape,)), X_train,y_train,epochs = 5, n_splits=10)"
   ]
  },
  {
   "cell_type": "code",
   "execution_count": 92,
   "metadata": {},
   "outputs": [
    {
     "name": "stdout",
     "output_type": "stream",
     "text": [
      "Confusion Matrix: \n",
      " [[80  1]\n",
      " [ 0 39]]\n",
      "Accuracy :  99.16666666666667\n",
      "Report : \n",
      "               precision    recall  f1-score   support\n",
      "\n",
      "           0       1.00      0.99      0.99        81\n",
      "           1       0.97      1.00      0.99        39\n",
      "\n",
      "    accuracy                           0.99       120\n",
      "   macro avg       0.99      0.99      0.99       120\n",
      "weighted avg       0.99      0.99      0.99       120\n",
      "\n"
     ]
    }
   ],
   "source": [
    "y_pred = m.predict(MLP, X_test)\n",
    "accuracy(y_test, (y_pred>0.5).astype(float))"
   ]
  },
  {
   "cell_type": "code",
   "execution_count": 93,
   "metadata": {},
   "outputs": [],
   "source": [
    "param_grid = {\n",
    "              \n",
    "              'batch_size':[ 70, 50, 60, 40],\n",
    "              'epochs' :              [100,150,200],\n",
    "              #'batch_size' :          [32, 128],\n",
    "              #'optimizer' :           ['Adam'],\n",
    "              #'dropout_rate' :        [0.1, 0.2, 0.3],\n",
    "              #'activation' :          ['relu', 'elu']\n",
    "             }"
   ]
  },
  {
   "cell_type": "code",
   "execution_count": 95,
   "metadata": {},
   "outputs": [
    {
     "name": "stdout",
     "output_type": "stream",
     "text": [
      "Help on function search_pipeline in module model_selection:\n",
      "\n",
      "search_pipeline(X_train_data, X_test_data, y_train_data, model, param_grid, cv=10, scoring_fit='neg_mean_squared_error', do_probabilities=False, search_mode='GridSearchCV', n_iterations=0)\n",
      "    Parameters tuning for sklearn and keras models. . \n",
      "    Made by Louis and Amine\n",
      "\n"
     ]
    }
   ],
   "source": [
    "help(search_pipeline)"
   ]
  },
  {
   "cell_type": "code",
   "execution_count": 97,
   "metadata": {},
   "outputs": [],
   "source": [
    "MLP = m.build_MLP(input_shape = (input_shape,))\n",
    "gs, fitted_model, pred = search_pipeline(X_train, X_test, y_train, MLP, \n",
    "                                         param_grid ,scoring_fit = 'accuracy'\n",
    "                                        )"
   ]
  },
  {
   "cell_type": "code",
   "execution_count": 104,
   "metadata": {},
   "outputs": [
    {
     "name": "stdout",
     "output_type": "stream",
     "text": [
      "les meilleurs paramètres sont  {'batch_size': 70, 'epochs': 100}\n",
      "les meilleur score est  1.0\n",
      "Using Keras classifier\n",
      "avg accuracy : 1.0\n"
     ]
    },
    {
     "data": {
      "text/plain": [
       "array([1., 1., 1.])"
      ]
     },
     "execution_count": 104,
     "metadata": {},
     "output_type": "execute_result"
    }
   ],
   "source": [
    "best_parameters = get_best_parameters (gs )\n",
    "cross_validation( m.build_MLP((24,)), X_train,y_train, n_splits=3, **best_parameters)"
   ]
  },
  {
   "cell_type": "code",
   "execution_count": 100,
   "metadata": {},
   "outputs": [
    {
     "name": "stdout",
     "output_type": "stream",
     "text": [
      "Confusion Matrix: \n",
      " [[81  0]\n",
      " [ 0 39]]\n",
      "Accuracy :  100.0\n",
      "Report : \n",
      "               precision    recall  f1-score   support\n",
      "\n",
      "           0       1.00      1.00      1.00        81\n",
      "           1       1.00      1.00      1.00        39\n",
      "\n",
      "    accuracy                           1.00       120\n",
      "   macro avg       1.00      1.00      1.00       120\n",
      "weighted avg       1.00      1.00      1.00       120\n",
      "\n"
     ]
    }
   ],
   "source": [
    "y_pred = m.predict(fitted_model, X_test)\n",
    "accuracy(y_test, y_pred)"
   ]
  },
  {
   "cell_type": "code",
   "execution_count": null,
   "metadata": {},
   "outputs": [],
   "source": []
  }
 ],
 "metadata": {
  "kernelspec": {
   "display_name": "Python 3",
   "language": "python",
   "name": "python3"
  },
  "language_info": {
   "codemirror_mode": {
    "name": "ipython",
    "version": 3
   },
   "file_extension": ".py",
   "mimetype": "text/x-python",
   "name": "python",
   "nbconvert_exporter": "python",
   "pygments_lexer": "ipython3",
   "version": "3.7.1"
  }
 },
 "nbformat": 4,
 "nbformat_minor": 2
}
