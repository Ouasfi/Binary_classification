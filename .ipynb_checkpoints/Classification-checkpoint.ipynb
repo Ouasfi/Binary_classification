{
 "cells": [
  {
   "cell_type": "markdown",
   "metadata": {},
   "source": [
    "# Classification of chronic kidney diseance"
   ]
  },
  {
   "cell_type": "code",
   "execution_count": 42,
   "metadata": {
    "scrolled": true
   },
   "outputs": [],
   "source": [
    "import numpy as np \n",
    "import pandas as pd\n",
    "from sklearn.preprocessing import LabelEncoder\n",
    "#import models as m\n",
    "#from model_selection import *"
   ]
  },
  {
   "cell_type": "code",
   "execution_count": 17,
   "metadata": {},
   "outputs": [
    {
     "data": {
      "text/html": [
       "<div>\n",
       "<style scoped>\n",
       "    .dataframe tbody tr th:only-of-type {\n",
       "        vertical-align: middle;\n",
       "    }\n",
       "\n",
       "    .dataframe tbody tr th {\n",
       "        vertical-align: top;\n",
       "    }\n",
       "\n",
       "    .dataframe thead th {\n",
       "        text-align: right;\n",
       "    }\n",
       "</style>\n",
       "<table border=\"1\" class=\"dataframe\">\n",
       "  <thead>\n",
       "    <tr style=\"text-align: right;\">\n",
       "      <th></th>\n",
       "      <th>Age</th>\n",
       "      <th>Bp</th>\n",
       "      <th>Sg</th>\n",
       "      <th>Al</th>\n",
       "      <th>Su</th>\n",
       "      <th>Rbc</th>\n",
       "      <th>Pc</th>\n",
       "      <th>Pcc</th>\n",
       "      <th>Ba</th>\n",
       "      <th>Bgr</th>\n",
       "      <th>...</th>\n",
       "      <th>Pcv</th>\n",
       "      <th>Wbcc</th>\n",
       "      <th>Rbcc</th>\n",
       "      <th>Htn</th>\n",
       "      <th>Dm</th>\n",
       "      <th>Cad</th>\n",
       "      <th>Appet</th>\n",
       "      <th>pe</th>\n",
       "      <th>Ane</th>\n",
       "      <th>Class</th>\n",
       "    </tr>\n",
       "  </thead>\n",
       "  <tbody>\n",
       "    <tr>\n",
       "      <th>0</th>\n",
       "      <td>48.0</td>\n",
       "      <td>80.0</td>\n",
       "      <td>1.020</td>\n",
       "      <td>1.0</td>\n",
       "      <td>0.0</td>\n",
       "      <td>NaN</td>\n",
       "      <td>normal</td>\n",
       "      <td>notpresent</td>\n",
       "      <td>notpresent</td>\n",
       "      <td>121.0</td>\n",
       "      <td>...</td>\n",
       "      <td>44.0</td>\n",
       "      <td>7800.0</td>\n",
       "      <td>5.2</td>\n",
       "      <td>yes</td>\n",
       "      <td>yes</td>\n",
       "      <td>no</td>\n",
       "      <td>good</td>\n",
       "      <td>no</td>\n",
       "      <td>no</td>\n",
       "      <td>ckd</td>\n",
       "    </tr>\n",
       "    <tr>\n",
       "      <th>1</th>\n",
       "      <td>7.0</td>\n",
       "      <td>50.0</td>\n",
       "      <td>1.020</td>\n",
       "      <td>4.0</td>\n",
       "      <td>0.0</td>\n",
       "      <td>NaN</td>\n",
       "      <td>normal</td>\n",
       "      <td>notpresent</td>\n",
       "      <td>notpresent</td>\n",
       "      <td>NaN</td>\n",
       "      <td>...</td>\n",
       "      <td>38.0</td>\n",
       "      <td>6000.0</td>\n",
       "      <td>NaN</td>\n",
       "      <td>no</td>\n",
       "      <td>no</td>\n",
       "      <td>no</td>\n",
       "      <td>good</td>\n",
       "      <td>no</td>\n",
       "      <td>no</td>\n",
       "      <td>ckd</td>\n",
       "    </tr>\n",
       "    <tr>\n",
       "      <th>2</th>\n",
       "      <td>62.0</td>\n",
       "      <td>80.0</td>\n",
       "      <td>1.010</td>\n",
       "      <td>2.0</td>\n",
       "      <td>3.0</td>\n",
       "      <td>normal</td>\n",
       "      <td>normal</td>\n",
       "      <td>notpresent</td>\n",
       "      <td>notpresent</td>\n",
       "      <td>423.0</td>\n",
       "      <td>...</td>\n",
       "      <td>31.0</td>\n",
       "      <td>7500.0</td>\n",
       "      <td>NaN</td>\n",
       "      <td>no</td>\n",
       "      <td>yes</td>\n",
       "      <td>no</td>\n",
       "      <td>poor</td>\n",
       "      <td>no</td>\n",
       "      <td>yes</td>\n",
       "      <td>ckd</td>\n",
       "    </tr>\n",
       "    <tr>\n",
       "      <th>3</th>\n",
       "      <td>48.0</td>\n",
       "      <td>70.0</td>\n",
       "      <td>1.005</td>\n",
       "      <td>4.0</td>\n",
       "      <td>0.0</td>\n",
       "      <td>normal</td>\n",
       "      <td>abnormal</td>\n",
       "      <td>present</td>\n",
       "      <td>notpresent</td>\n",
       "      <td>117.0</td>\n",
       "      <td>...</td>\n",
       "      <td>32.0</td>\n",
       "      <td>6700.0</td>\n",
       "      <td>3.9</td>\n",
       "      <td>yes</td>\n",
       "      <td>no</td>\n",
       "      <td>no</td>\n",
       "      <td>poor</td>\n",
       "      <td>yes</td>\n",
       "      <td>yes</td>\n",
       "      <td>ckd</td>\n",
       "    </tr>\n",
       "    <tr>\n",
       "      <th>4</th>\n",
       "      <td>51.0</td>\n",
       "      <td>80.0</td>\n",
       "      <td>1.010</td>\n",
       "      <td>2.0</td>\n",
       "      <td>0.0</td>\n",
       "      <td>normal</td>\n",
       "      <td>normal</td>\n",
       "      <td>notpresent</td>\n",
       "      <td>notpresent</td>\n",
       "      <td>106.0</td>\n",
       "      <td>...</td>\n",
       "      <td>35.0</td>\n",
       "      <td>7300.0</td>\n",
       "      <td>4.6</td>\n",
       "      <td>no</td>\n",
       "      <td>no</td>\n",
       "      <td>no</td>\n",
       "      <td>good</td>\n",
       "      <td>no</td>\n",
       "      <td>no</td>\n",
       "      <td>ckd</td>\n",
       "    </tr>\n",
       "    <tr>\n",
       "      <th>...</th>\n",
       "      <td>...</td>\n",
       "      <td>...</td>\n",
       "      <td>...</td>\n",
       "      <td>...</td>\n",
       "      <td>...</td>\n",
       "      <td>...</td>\n",
       "      <td>...</td>\n",
       "      <td>...</td>\n",
       "      <td>...</td>\n",
       "      <td>...</td>\n",
       "      <td>...</td>\n",
       "      <td>...</td>\n",
       "      <td>...</td>\n",
       "      <td>...</td>\n",
       "      <td>...</td>\n",
       "      <td>...</td>\n",
       "      <td>...</td>\n",
       "      <td>...</td>\n",
       "      <td>...</td>\n",
       "      <td>...</td>\n",
       "      <td>...</td>\n",
       "    </tr>\n",
       "    <tr>\n",
       "      <th>395</th>\n",
       "      <td>55.0</td>\n",
       "      <td>80.0</td>\n",
       "      <td>1.020</td>\n",
       "      <td>0.0</td>\n",
       "      <td>0.0</td>\n",
       "      <td>normal</td>\n",
       "      <td>normal</td>\n",
       "      <td>notpresent</td>\n",
       "      <td>notpresent</td>\n",
       "      <td>140.0</td>\n",
       "      <td>...</td>\n",
       "      <td>47.0</td>\n",
       "      <td>6700.0</td>\n",
       "      <td>4.9</td>\n",
       "      <td>no</td>\n",
       "      <td>no</td>\n",
       "      <td>no</td>\n",
       "      <td>good</td>\n",
       "      <td>no</td>\n",
       "      <td>no</td>\n",
       "      <td>notckd</td>\n",
       "    </tr>\n",
       "    <tr>\n",
       "      <th>396</th>\n",
       "      <td>42.0</td>\n",
       "      <td>70.0</td>\n",
       "      <td>1.025</td>\n",
       "      <td>0.0</td>\n",
       "      <td>0.0</td>\n",
       "      <td>normal</td>\n",
       "      <td>normal</td>\n",
       "      <td>notpresent</td>\n",
       "      <td>notpresent</td>\n",
       "      <td>75.0</td>\n",
       "      <td>...</td>\n",
       "      <td>54.0</td>\n",
       "      <td>7800.0</td>\n",
       "      <td>6.2</td>\n",
       "      <td>no</td>\n",
       "      <td>no</td>\n",
       "      <td>no</td>\n",
       "      <td>good</td>\n",
       "      <td>no</td>\n",
       "      <td>no</td>\n",
       "      <td>notckd</td>\n",
       "    </tr>\n",
       "    <tr>\n",
       "      <th>397</th>\n",
       "      <td>12.0</td>\n",
       "      <td>80.0</td>\n",
       "      <td>1.020</td>\n",
       "      <td>0.0</td>\n",
       "      <td>0.0</td>\n",
       "      <td>normal</td>\n",
       "      <td>normal</td>\n",
       "      <td>notpresent</td>\n",
       "      <td>notpresent</td>\n",
       "      <td>100.0</td>\n",
       "      <td>...</td>\n",
       "      <td>49.0</td>\n",
       "      <td>6600.0</td>\n",
       "      <td>5.4</td>\n",
       "      <td>no</td>\n",
       "      <td>no</td>\n",
       "      <td>no</td>\n",
       "      <td>good</td>\n",
       "      <td>no</td>\n",
       "      <td>no</td>\n",
       "      <td>notckd</td>\n",
       "    </tr>\n",
       "    <tr>\n",
       "      <th>398</th>\n",
       "      <td>17.0</td>\n",
       "      <td>60.0</td>\n",
       "      <td>1.025</td>\n",
       "      <td>0.0</td>\n",
       "      <td>0.0</td>\n",
       "      <td>normal</td>\n",
       "      <td>normal</td>\n",
       "      <td>notpresent</td>\n",
       "      <td>notpresent</td>\n",
       "      <td>114.0</td>\n",
       "      <td>...</td>\n",
       "      <td>51.0</td>\n",
       "      <td>7200.0</td>\n",
       "      <td>5.9</td>\n",
       "      <td>no</td>\n",
       "      <td>no</td>\n",
       "      <td>no</td>\n",
       "      <td>good</td>\n",
       "      <td>no</td>\n",
       "      <td>no</td>\n",
       "      <td>notckd</td>\n",
       "    </tr>\n",
       "    <tr>\n",
       "      <th>399</th>\n",
       "      <td>58.0</td>\n",
       "      <td>80.0</td>\n",
       "      <td>1.025</td>\n",
       "      <td>0.0</td>\n",
       "      <td>0.0</td>\n",
       "      <td>normal</td>\n",
       "      <td>normal</td>\n",
       "      <td>notpresent</td>\n",
       "      <td>notpresent</td>\n",
       "      <td>131.0</td>\n",
       "      <td>...</td>\n",
       "      <td>53.0</td>\n",
       "      <td>6800.0</td>\n",
       "      <td>6.1</td>\n",
       "      <td>no</td>\n",
       "      <td>no</td>\n",
       "      <td>no</td>\n",
       "      <td>good</td>\n",
       "      <td>no</td>\n",
       "      <td>no</td>\n",
       "      <td>notckd</td>\n",
       "    </tr>\n",
       "  </tbody>\n",
       "</table>\n",
       "<p>400 rows × 25 columns</p>\n",
       "</div>"
      ],
      "text/plain": [
       "      Age    Bp     Sg   Al   Su     Rbc        Pc         Pcc          Ba  \\\n",
       "0    48.0  80.0  1.020  1.0  0.0     NaN    normal  notpresent  notpresent   \n",
       "1     7.0  50.0  1.020  4.0  0.0     NaN    normal  notpresent  notpresent   \n",
       "2    62.0  80.0  1.010  2.0  3.0  normal    normal  notpresent  notpresent   \n",
       "3    48.0  70.0  1.005  4.0  0.0  normal  abnormal     present  notpresent   \n",
       "4    51.0  80.0  1.010  2.0  0.0  normal    normal  notpresent  notpresent   \n",
       "..    ...   ...    ...  ...  ...     ...       ...         ...         ...   \n",
       "395  55.0  80.0  1.020  0.0  0.0  normal    normal  notpresent  notpresent   \n",
       "396  42.0  70.0  1.025  0.0  0.0  normal    normal  notpresent  notpresent   \n",
       "397  12.0  80.0  1.020  0.0  0.0  normal    normal  notpresent  notpresent   \n",
       "398  17.0  60.0  1.025  0.0  0.0  normal    normal  notpresent  notpresent   \n",
       "399  58.0  80.0  1.025  0.0  0.0  normal    normal  notpresent  notpresent   \n",
       "\n",
       "       Bgr  ...   Pcv    Wbcc  Rbcc  Htn   Dm  Cad  Appet   pe  Ane   Class  \n",
       "0    121.0  ...  44.0  7800.0   5.2  yes  yes   no   good   no   no     ckd  \n",
       "1      NaN  ...  38.0  6000.0   NaN   no   no   no   good   no   no     ckd  \n",
       "2    423.0  ...  31.0  7500.0   NaN   no  yes   no   poor   no  yes     ckd  \n",
       "3    117.0  ...  32.0  6700.0   3.9  yes   no   no   poor  yes  yes     ckd  \n",
       "4    106.0  ...  35.0  7300.0   4.6   no   no   no   good   no   no     ckd  \n",
       "..     ...  ...   ...     ...   ...  ...  ...  ...    ...  ...  ...     ...  \n",
       "395  140.0  ...  47.0  6700.0   4.9   no   no   no   good   no   no  notckd  \n",
       "396   75.0  ...  54.0  7800.0   6.2   no   no   no   good   no   no  notckd  \n",
       "397  100.0  ...  49.0  6600.0   5.4   no   no   no   good   no   no  notckd  \n",
       "398  114.0  ...  51.0  7200.0   5.9   no   no   no   good   no   no  notckd  \n",
       "399  131.0  ...  53.0  6800.0   6.1   no   no   no   good   no   no  notckd  \n",
       "\n",
       "[400 rows x 25 columns]"
      ]
     },
     "execution_count": 17,
     "metadata": {},
     "output_type": "execute_result"
    }
   ],
   "source": [
    "data = pd.read_csv('ckd.csv', na_values='?')\n",
    "data"
   ]
  },
  {
   "cell_type": "code",
   "execution_count": 46,
   "metadata": {},
   "outputs": [
    {
     "ename": "NotFittedError",
     "evalue": "This LabelEncoder instance is not fitted yet. Call 'fit' with appropriate arguments before using this method.",
     "output_type": "error",
     "traceback": [
      "\u001b[1;31m---------------------------------------------------------------------------\u001b[0m",
      "\u001b[1;31mNotFittedError\u001b[0m                            Traceback (most recent call last)",
      "\u001b[1;32m<ipython-input-46-a0fc4444553f>\u001b[0m in \u001b[0;36m<module>\u001b[1;34m\u001b[0m\n\u001b[0;32m      4\u001b[0m             \u001b[0ml\u001b[0m \u001b[1;33m=\u001b[0m \u001b[1;33m[\u001b[0m\u001b[0mx\u001b[0m \u001b[1;32mfor\u001b[0m \u001b[0mx\u001b[0m \u001b[1;32min\u001b[0m \u001b[0mdata\u001b[0m\u001b[1;33m[\u001b[0m\u001b[0mi\u001b[0m\u001b[1;33m]\u001b[0m\u001b[1;33m.\u001b[0m\u001b[0munique\u001b[0m\u001b[1;33m(\u001b[0m\u001b[1;33m)\u001b[0m \u001b[1;32mif\u001b[0m \u001b[0mstr\u001b[0m\u001b[1;33m(\u001b[0m\u001b[0mx\u001b[0m\u001b[1;33m)\u001b[0m \u001b[1;33m!=\u001b[0m \u001b[1;34m'nan'\u001b[0m\u001b[1;33m]\u001b[0m\u001b[1;33m\u001b[0m\u001b[0m\n\u001b[0;32m      5\u001b[0m             \u001b[0mle\u001b[0m \u001b[1;33m=\u001b[0m \u001b[0mLabelEncoder\u001b[0m\u001b[1;33m(\u001b[0m\u001b[1;33m)\u001b[0m\u001b[1;33m\u001b[0m\u001b[0m\n\u001b[1;32m----> 6\u001b[1;33m             \u001b[0mle\u001b[0m\u001b[1;33m.\u001b[0m\u001b[0mtransform\u001b[0m\u001b[1;33m(\u001b[0m\u001b[0ml\u001b[0m\u001b[1;33m)\u001b[0m\u001b[1;33m\u001b[0m\u001b[0m\n\u001b[0m\u001b[0;32m      7\u001b[0m             \u001b[0mprint\u001b[0m\u001b[1;33m(\u001b[0m\u001b[0mle\u001b[0m\u001b[1;33m)\u001b[0m\u001b[1;33m\u001b[0m\u001b[0m\n\u001b[0;32m      8\u001b[0m \u001b[1;33m\u001b[0m\u001b[0m\n",
      "\u001b[1;32mc:\\users\\eric-\\appdata\\local\\programs\\python\\python37-32\\lib\\site-packages\\sklearn\\preprocessing\\label.py\u001b[0m in \u001b[0;36mtransform\u001b[1;34m(self, y)\u001b[0m\n\u001b[0;32m    249\u001b[0m         \u001b[0my\u001b[0m \u001b[1;33m:\u001b[0m \u001b[0marray\u001b[0m\u001b[1;33m-\u001b[0m\u001b[0mlike\u001b[0m \u001b[0mof\u001b[0m \u001b[0mshape\u001b[0m \u001b[1;33m[\u001b[0m\u001b[0mn_samples\u001b[0m\u001b[1;33m]\u001b[0m\u001b[1;33m\u001b[0m\u001b[0m\n\u001b[0;32m    250\u001b[0m         \"\"\"\n\u001b[1;32m--> 251\u001b[1;33m         \u001b[0mcheck_is_fitted\u001b[0m\u001b[1;33m(\u001b[0m\u001b[0mself\u001b[0m\u001b[1;33m,\u001b[0m \u001b[1;34m'classes_'\u001b[0m\u001b[1;33m)\u001b[0m\u001b[1;33m\u001b[0m\u001b[0m\n\u001b[0m\u001b[0;32m    252\u001b[0m         \u001b[0my\u001b[0m \u001b[1;33m=\u001b[0m \u001b[0mcolumn_or_1d\u001b[0m\u001b[1;33m(\u001b[0m\u001b[0my\u001b[0m\u001b[1;33m,\u001b[0m \u001b[0mwarn\u001b[0m\u001b[1;33m=\u001b[0m\u001b[1;32mTrue\u001b[0m\u001b[1;33m)\u001b[0m\u001b[1;33m\u001b[0m\u001b[0m\n\u001b[0;32m    253\u001b[0m         \u001b[1;31m# transform of empty array is empty array\u001b[0m\u001b[1;33m\u001b[0m\u001b[1;33m\u001b[0m\u001b[0m\n",
      "\u001b[1;32mc:\\users\\eric-\\appdata\\local\\programs\\python\\python37-32\\lib\\site-packages\\sklearn\\utils\\validation.py\u001b[0m in \u001b[0;36mcheck_is_fitted\u001b[1;34m(estimator, attributes, msg, all_or_any)\u001b[0m\n\u001b[0;32m    912\u001b[0m \u001b[1;33m\u001b[0m\u001b[0m\n\u001b[0;32m    913\u001b[0m     \u001b[1;32mif\u001b[0m \u001b[1;32mnot\u001b[0m \u001b[0mall_or_any\u001b[0m\u001b[1;33m(\u001b[0m\u001b[1;33m[\u001b[0m\u001b[0mhasattr\u001b[0m\u001b[1;33m(\u001b[0m\u001b[0mestimator\u001b[0m\u001b[1;33m,\u001b[0m \u001b[0mattr\u001b[0m\u001b[1;33m)\u001b[0m \u001b[1;32mfor\u001b[0m \u001b[0mattr\u001b[0m \u001b[1;32min\u001b[0m \u001b[0mattributes\u001b[0m\u001b[1;33m]\u001b[0m\u001b[1;33m)\u001b[0m\u001b[1;33m:\u001b[0m\u001b[1;33m\u001b[0m\u001b[0m\n\u001b[1;32m--> 914\u001b[1;33m         \u001b[1;32mraise\u001b[0m \u001b[0mNotFittedError\u001b[0m\u001b[1;33m(\u001b[0m\u001b[0mmsg\u001b[0m \u001b[1;33m%\u001b[0m \u001b[1;33m{\u001b[0m\u001b[1;34m'name'\u001b[0m\u001b[1;33m:\u001b[0m \u001b[0mtype\u001b[0m\u001b[1;33m(\u001b[0m\u001b[0mestimator\u001b[0m\u001b[1;33m)\u001b[0m\u001b[1;33m.\u001b[0m\u001b[0m__name__\u001b[0m\u001b[1;33m}\u001b[0m\u001b[1;33m)\u001b[0m\u001b[1;33m\u001b[0m\u001b[0m\n\u001b[0m\u001b[0;32m    915\u001b[0m \u001b[1;33m\u001b[0m\u001b[0m\n\u001b[0;32m    916\u001b[0m \u001b[1;33m\u001b[0m\u001b[0m\n",
      "\u001b[1;31mNotFittedError\u001b[0m: This LabelEncoder instance is not fitted yet. Call 'fit' with appropriate arguments before using this method."
     ]
    }
   ],
   "source": [
    "for i in data.columns:\n",
    "    for j in data[i]:\n",
    "        if(isinstance(j,str)):\n",
    "            l = [x for x in data[i].unique() if str(x) != 'nan']\n",
    "            le = LabelEncoder()\n",
    "            le.transform(l)\n",
    "            print(le)\n",
    "            \n",
    "            \n"
   ]
  },
  {
   "cell_type": "code",
   "execution_count": 22,
   "metadata": {},
   "outputs": [
    {
     "data": {
      "text/plain": [
       "str"
      ]
     },
     "execution_count": 22,
     "metadata": {},
     "output_type": "execute_result"
    }
   ],
   "source": []
  },
  {
   "cell_type": "markdown",
   "metadata": {},
   "source": [
    "## Data preparation "
   ]
  },
  {
   "cell_type": "code",
   "execution_count": 3,
   "metadata": {},
   "outputs": [],
   "source": [
    "path = './data/data_banknote_authentication.txt'\n",
    "#target_name = 'target'\n",
    "test_size= 0.3"
   ]
  },
  {
   "cell_type": "code",
   "execution_count": 4,
   "metadata": {},
   "outputs": [
    {
     "name": "stdout",
     "output_type": "stream",
     "text": [
      "X_train : (959, 4)  y_train : (959,) X_test :  (412, 4) y test :  (412,)\n"
     ]
    }
   ],
   "source": [
    "df, X, y, X_train, X_test, y_train, y_test = load_data(path, test_size = test_size)"
   ]
  },
  {
   "cell_type": "code",
   "execution_count": 5,
   "metadata": {},
   "outputs": [],
   "source": [
    "from sklearn.preprocessing import label_binarize\n",
    "\n",
    "y_train = label_binarize(y_train, classes = ['ckd', 'notckd'])\n",
    "y_test = label_binarize(y_test, classes = ['ckd', 'notckd'])"
   ]
  },
  {
   "cell_type": "markdown",
   "metadata": {},
   "source": [
    "## Decision tree classification "
   ]
  },
  {
   "cell_type": "markdown",
   "metadata": {},
   "source": [
    "Let's first train a decision tree classifier with default parameters and evaluate it's preformance."
   ]
  },
  {
   "cell_type": "code",
   "execution_count": 5,
   "metadata": {},
   "outputs": [],
   "source": [
    "Decision_clf = m.DecisionTreeModel( train = True, X_train= X_train, y_train = y_train)"
   ]
  },
  {
   "cell_type": "markdown",
   "metadata": {},
   "source": [
    "## Prediction and accuracy "
   ]
  },
  {
   "cell_type": "code",
   "execution_count": 6,
   "metadata": {},
   "outputs": [
    {
     "name": "stdout",
     "output_type": "stream",
     "text": [
      "Confusion Matrix: \n",
      " [[219  20]\n",
      " [ 14 159]]\n",
      "Accuracy :  91.74757281553399\n",
      "Report : \n",
      "               precision    recall  f1-score   support\n",
      "\n",
      "           0       0.94      0.92      0.93       239\n",
      "           1       0.89      0.92      0.90       173\n",
      "\n",
      "   micro avg       0.92      0.92      0.92       412\n",
      "   macro avg       0.91      0.92      0.92       412\n",
      "weighted avg       0.92      0.92      0.92       412\n",
      "\n"
     ]
    }
   ],
   "source": [
    "y_pred = m.predict(Decision_clf, X_test)\n",
    "accuracy(y_test, y_pred)"
   ]
  },
  {
   "cell_type": "markdown",
   "metadata": {},
   "source": [
    "## Cross validation"
   ]
  },
  {
   "cell_type": "code",
   "execution_count": 7,
   "metadata": {},
   "outputs": [
    {
     "name": "stdout",
     "output_type": "stream",
     "text": [
      "avg accuracy : 0.9358140272929228\n"
     ]
    }
   ],
   "source": [
    "results = cross_validation(Decision_clf, X,y,epochs=100, batch_size=70, n_splits=10)"
   ]
  },
  {
   "cell_type": "markdown",
   "metadata": {},
   "source": [
    "## Parameters tunig "
   ]
  },
  {
   "cell_type": "code",
   "execution_count": 8,
   "metadata": {},
   "outputs": [],
   "source": [
    "model = m.DecisionTreeModel( train = False)"
   ]
  },
  {
   "cell_type": "code",
   "execution_count": 9,
   "metadata": {},
   "outputs": [],
   "source": [
    "param_grid = {'criterion': ['gini', 'entropy'],  \n",
    "              'max_depth' : range(1,10),\n",
    "              'min_samples_leaf': range(1,10) } "
   ]
  },
  {
   "cell_type": "code",
   "execution_count": 10,
   "metadata": {},
   "outputs": [
    {
     "name": "stdout",
     "output_type": "stream",
     "text": [
      "Fitting 10 folds for each of 162 candidates, totalling 1620 fits\n"
     ]
    },
    {
     "name": "stderr",
     "output_type": "stream",
     "text": [
      "[Parallel(n_jobs=-1)]: Using backend LokyBackend with 4 concurrent workers.\n",
      "[Parallel(n_jobs=-1)]: Done  40 tasks      | elapsed:    2.1s\n",
      "[Parallel(n_jobs=-1)]: Done 1620 out of 1620 | elapsed:    5.0s finished\n"
     ]
    }
   ],
   "source": [
    "gs, fitted_model, pred = search_pipeline(X_train, X_test, y_train, model, param_grid ,scoring_fit = 'accuracy' )"
   ]
  },
  {
   "cell_type": "code",
   "execution_count": 11,
   "metadata": {},
   "outputs": [
    {
     "name": "stdout",
     "output_type": "stream",
     "text": [
      "les meilleurs paramètres sont  {'criterion': 'entropy', 'max_depth': 7, 'min_samples_leaf': 1}\n",
      "les meilleur score est  0.9822732012513035\n",
      "Confusion Matrix: \n",
      " [[238   1]\n",
      " [  2 171]]\n",
      "Accuracy :  99.27184466019418\n",
      "Report : \n",
      "               precision    recall  f1-score   support\n",
      "\n",
      "           0       0.99      1.00      0.99       239\n",
      "           1       0.99      0.99      0.99       173\n",
      "\n",
      "   micro avg       0.99      0.99      0.99       412\n",
      "   macro avg       0.99      0.99      0.99       412\n",
      "weighted avg       0.99      0.99      0.99       412\n",
      "\n"
     ]
    }
   ],
   "source": [
    "best_parameters = get_best_parameters (gs )\n",
    "y_pred = m.predict(fitted_model, X_test)\n",
    "accuracy(y_test, y_pred>0.5)"
   ]
  },
  {
   "cell_type": "markdown",
   "metadata": {},
   "source": [
    "# Neural Networks "
   ]
  },
  {
   "cell_type": "markdown",
   "metadata": {},
   "source": [
    "## Improved Multilayer perceptron"
   ]
  },
  {
   "cell_type": "code",
   "execution_count": 12,
   "metadata": {},
   "outputs": [
    {
     "name": "stdout",
     "output_type": "stream",
     "text": [
      "Train on 959 samples, validate on 412 samples\n",
      "Epoch 1/20\n",
      "959/959 [==============================] - 1s 838us/step - loss: 0.2852 - accuracy: 0.8749 - val_loss: 0.0745 - val_accuracy: 0.9733\n",
      "Epoch 2/20\n",
      "959/959 [==============================] - 0s 47us/step - loss: 0.0530 - accuracy: 0.9885 - val_loss: 0.0241 - val_accuracy: 1.0000\n",
      "Epoch 3/20\n",
      "959/959 [==============================] - 0s 48us/step - loss: 0.0300 - accuracy: 0.9958 - val_loss: 0.0179 - val_accuracy: 1.0000\n",
      "Epoch 4/20\n",
      "959/959 [==============================] - 0s 49us/step - loss: 0.0249 - accuracy: 0.9979 - val_loss: 0.0416 - val_accuracy: 0.9854\n",
      "Epoch 5/20\n",
      "959/959 [==============================] - 0s 48us/step - loss: 0.0159 - accuracy: 0.9958 - val_loss: 0.0152 - val_accuracy: 1.0000\n",
      "Epoch 6/20\n",
      "959/959 [==============================] - 0s 62us/step - loss: 0.0101 - accuracy: 1.0000 - val_loss: 0.0105 - val_accuracy: 1.0000\n",
      "Epoch 7/20\n",
      "959/959 [==============================] - 0s 64us/step - loss: 0.0094 - accuracy: 0.9979 - val_loss: 0.0343 - val_accuracy: 0.9903\n",
      "Epoch 8/20\n",
      "959/959 [==============================] - 0s 52us/step - loss: 0.0087 - accuracy: 0.9990 - val_loss: 0.0060 - val_accuracy: 1.0000\n",
      "Epoch 9/20\n",
      "959/959 [==============================] - 0s 48us/step - loss: 0.0062 - accuracy: 1.0000 - val_loss: 0.0063 - val_accuracy: 1.0000\n",
      "Epoch 10/20\n",
      "959/959 [==============================] - 0s 44us/step - loss: 0.0088 - accuracy: 0.9979 - val_loss: 0.0106 - val_accuracy: 1.0000\n",
      "Epoch 11/20\n",
      "959/959 [==============================] - 0s 45us/step - loss: 0.0052 - accuracy: 1.0000 - val_loss: 0.0133 - val_accuracy: 1.0000\n",
      "Epoch 12/20\n",
      "959/959 [==============================] - 0s 47us/step - loss: 0.0149 - accuracy: 0.9937 - val_loss: 0.0458 - val_accuracy: 0.9854\n",
      "Epoch 13/20\n",
      "959/959 [==============================] - 0s 46us/step - loss: 0.0082 - accuracy: 0.9979 - val_loss: 0.0083 - val_accuracy: 0.9976\n",
      "Epoch 14/20\n",
      "959/959 [==============================] - 0s 46us/step - loss: 0.0080 - accuracy: 0.9990 - val_loss: 0.0041 - val_accuracy: 1.0000\n",
      "Epoch 15/20\n",
      "959/959 [==============================] - 0s 44us/step - loss: 0.0061 - accuracy: 1.0000 - val_loss: 0.0030 - val_accuracy: 1.0000\n",
      "Epoch 16/20\n",
      "959/959 [==============================] - 0s 46us/step - loss: 0.0124 - accuracy: 0.9948 - val_loss: 0.0032 - val_accuracy: 1.0000\n",
      "Epoch 17/20\n",
      "959/959 [==============================] - 0s 52us/step - loss: 0.0045 - accuracy: 1.0000 - val_loss: 0.0036 - val_accuracy: 1.0000\n",
      "Epoch 18/20\n",
      "959/959 [==============================] - 0s 60us/step - loss: 0.0028 - accuracy: 1.0000 - val_loss: 0.0043 - val_accuracy: 1.0000\n",
      "Epoch 19/20\n",
      "959/959 [==============================] - 0s 51us/step - loss: 0.0065 - accuracy: 0.9990 - val_loss: 0.0234 - val_accuracy: 0.9927\n",
      "Epoch 20/20\n",
      "959/959 [==============================] - 0s 51us/step - loss: 0.0050 - accuracy: 1.0000 - val_loss: 0.0025 - val_accuracy: 1.0000\n",
      "Test accuracy: 1.0\n"
     ]
    }
   ],
   "source": [
    "MLP = m.build_MLP((4,))\n",
    "history = m.train_nn(MLP,X_train, y_train, X_test, y_test, epochs = 20)"
   ]
  },
  {
   "cell_type": "code",
   "execution_count": 13,
   "metadata": {},
   "outputs": [
    {
     "name": "stdout",
     "output_type": "stream",
     "text": [
      "Confusion Matrix: \n",
      " [[239   0]\n",
      " [  0 173]]\n",
      "Accuracy :  100.0\n",
      "Report : \n",
      "               precision    recall  f1-score   support\n",
      "\n",
      "           0       1.00      1.00      1.00       239\n",
      "           1       1.00      1.00      1.00       173\n",
      "\n",
      "   micro avg       1.00      1.00      1.00       412\n",
      "   macro avg       1.00      1.00      1.00       412\n",
      "weighted avg       1.00      1.00      1.00       412\n",
      "\n"
     ]
    }
   ],
   "source": [
    "y_pred = m.predict(MLP, X_test)\n",
    "accuracy(y_test, (y_pred>0.5).astype(float))"
   ]
  },
  {
   "cell_type": "code",
   "execution_count": 25,
   "metadata": {},
   "outputs": [],
   "source": [
    "param_grid = {\n",
    "              'epochs':[5, 10, 15 ],\n",
    "              'batch_size':[ 70, 50, 60, 40],\n",
    "              'epochs' :              [100,150,200],\n",
    "              #'batch_size' :          [32, 128],\n",
    "              #'optimizer' :           ['Adam'],\n",
    "              #'dropout_rate' :        [0.1, 0.2, 0.3],\n",
    "              #'activation' :          ['relu', 'elu']\n",
    "             }"
   ]
  },
  {
   "cell_type": "code",
   "execution_count": 26,
   "metadata": {},
   "outputs": [
    {
     "name": "stdout",
     "output_type": "stream",
     "text": [
      "Fitting 10 folds for each of 12 candidates, totalling 120 fits\n"
     ]
    },
    {
     "name": "stderr",
     "output_type": "stream",
     "text": [
      "[Parallel(n_jobs=-1)]: Using backend LokyBackend with 4 concurrent workers.\n",
      "/anaconda3/lib/python3.7/site-packages/sklearn/externals/joblib/externals/loky/process_executor.py:706: UserWarning: A worker stopped while some jobs were given to the executor. This can be caused by a too short worker timeout or by a memory leak.\n",
      "  \"timeout or by a memory leak.\", UserWarning\n",
      "[Parallel(n_jobs=-1)]: Done  33 tasks      | elapsed:  1.0min\n",
      "[Parallel(n_jobs=-1)]: Done 120 out of 120 | elapsed:  4.3min finished\n"
     ]
    }
   ],
   "source": [
    "gs, fitted_model, pred = search_pipeline(X_train, X_test, y_train,lambda : m.build_MLP((24,)), \n",
    "                                         param_grid ,scoring_fit = 'accuracy', is_keras_model = True \n",
    "                                        )"
   ]
  },
  {
   "cell_type": "code",
   "execution_count": 27,
   "metadata": {},
   "outputs": [
    {
     "name": "stdout",
     "output_type": "stream",
     "text": [
      "les meilleurs paramètres sont  {'batch_size': 40, 'epochs': 200}\n",
      "les meilleur score est  0.9964285714285714\n",
      "Confusion Matrix: \n",
      " [[78  3]\n",
      " [ 0 39]]\n",
      "Accuracy :  97.5\n",
      "Report : \n",
      "               precision    recall  f1-score   support\n",
      "\n",
      "           0       1.00      0.96      0.98        81\n",
      "           1       0.93      1.00      0.96        39\n",
      "\n",
      "   micro avg       0.97      0.97      0.97       120\n",
      "   macro avg       0.96      0.98      0.97       120\n",
      "weighted avg       0.98      0.97      0.98       120\n",
      "\n"
     ]
    }
   ],
   "source": [
    "best_parameters = get_best_parameters (gs )\n",
    "y_pred = m.predict(fitted_model, X_test)\n",
    "accuracy(y_test, y_pred)"
   ]
  },
  {
   "cell_type": "code",
   "execution_count": 21,
   "metadata": {},
   "outputs": [
    {
     "name": "stdout",
     "output_type": "stream",
     "text": [
      "Using Keras classifier\n",
      "avg accuracy : 0.9096457163492838\n"
     ]
    },
    {
     "data": {
      "text/plain": [
       "array([0.83406115, 0.93654269, 0.95833331])"
      ]
     },
     "execution_count": 21,
     "metadata": {},
     "output_type": "execute_result"
    }
   ],
   "source": [
    "cross_validation( m.build_MLP((4,)), X,y, n_splits=3, **best_parameters)"
   ]
  },
  {
   "cell_type": "markdown",
   "metadata": {},
   "source": [
    "## CNN architecture"
   ]
  },
  {
   "cell_type": "code",
   "execution_count": 36,
   "metadata": {},
   "outputs": [],
   "source": [
    "CNN = m.build_CNN(input_shape = (24,1))\n"
   ]
  },
  {
   "cell_type": "markdown",
   "metadata": {},
   "source": [
    "### Script for automation"
   ]
  },
  {
   "cell_type": "code",
   "execution_count": 34,
   "metadata": {},
   "outputs": [],
   "source": []
  },
  {
   "cell_type": "code",
   "execution_count": 9,
   "metadata": {},
   "outputs": [],
   "source": [
    "param_grid_MLP = {\n",
    "              'epochs':[5, 10, 15 ],\n",
    "              'batch_size':[ 70, 50, 60, 40],\n",
    "              \n",
    "              #'batch_size' :          [32, 128],\n",
    "              #'optimizer' :           ['Adam'],\n",
    "              #'dropout_rate' :        [0.1, 0.2, 0.3],\n",
    "              #'activation' :          ['relu', 'elu']\n",
    "             }\n",
    "param_grid_Dt = {'criterion': ['gini', 'entropy'],  \n",
    "              'max_depth' : range(3,14),\n",
    "              'min_samples_leaf': range(3,4) } "
   ]
  },
  {
   "cell_type": "code",
   "execution_count": 16,
   "metadata": {},
   "outputs": [],
   "source": [
    "path = \n",
    "target_name =\n",
    "test_size =\n",
    "train =\n",
    "epochs = \n",
    "batch_size = \n"
   ]
  },
  {
   "cell_type": "code",
   "execution_count": 14,
   "metadata": {},
   "outputs": [],
   "source": [
    "param_grid_MLP = {\n",
    "              'epochs':[5, 10, 15 ],\n",
    "              'batch_size':[ 70, 50, 60, 40],\n",
    "              \n",
    "              #'batch_size' :          [32, 128],\n",
    "              #'optimizer' :           ['Adam'],\n",
    "              #'dropout_rate' :        [0.1, 0.2, 0.3],\n",
    "              #'activation' :          ['relu', 'elu']\n",
    "             }\n",
    "param_grid_Dt = {'criterion': ['gini', 'entropy'],  \n",
    "              'max_depth' : range(3,14),\n",
    "              'min_samples_leaf': range(3,4) } \n",
    "\n",
    "models = {'MLP': {'build_fn':m.build_MLP((24,)),'params': param_grid_MLP},\n",
    "          'Decision_tree' : { 'build_fn':m.DecisionTreeModel( train = False),'params': param_grid_Dt}         \n",
    "         }\n",
    "model_name = 'MLP'\n",
    "finetune = True"
   ]
  },
  {
   "cell_type": "code",
   "execution_count": null,
   "metadata": {},
   "outputs": [],
   "source": []
  },
  {
   "cell_type": "markdown",
   "metadata": {},
   "source": [
    "model"
   ]
  },
  {
   "cell_type": "code",
   "execution_count": 15,
   "metadata": {},
   "outputs": [
    {
     "name": "stdout",
     "output_type": "stream",
     "text": [
      "X_train : (280, 24)  y_train : (280,) X_test :  (120, 24) y test :  (120,)\n"
     ]
    }
   ],
   "source": [
    "df, X, y, X_train, X_test, y_train, y_test = load_data(path, target_name, test_size)\n",
    "y_train = label_binarize(y_train, classes = ['ckd', 'notckd'])\n",
    "y_test = label_binarize(y_test, classes = ['ckd', 'notckd'])\n",
    "\n"
   ]
  },
  {
   "cell_type": "code",
   "execution_count": 21,
   "metadata": {},
   "outputs": [
    {
     "name": "stdout",
     "output_type": "stream",
     "text": [
      "X_train : (280, 24)  y_train : (280,) X_test :  (120, 24) y test :  (120,)\n",
      "Fitting 10 folds for each of 12 candidates, totalling 120 fits\n"
     ]
    },
    {
     "name": "stderr",
     "output_type": "stream",
     "text": [
      "[Parallel(n_jobs=-1)]: Using backend LokyBackend with 4 concurrent workers.\n",
      "/anaconda3/lib/python3.7/site-packages/sklearn/externals/joblib/externals/loky/process_executor.py:706: UserWarning: A worker stopped while some jobs were given to the executor. This can be caused by a too short worker timeout or by a memory leak.\n",
      "  \"timeout or by a memory leak.\", UserWarning\n",
      "[Parallel(n_jobs=-1)]: Done  33 tasks      | elapsed:   47.9s\n",
      "[Parallel(n_jobs=-1)]: Done 120 out of 120 | elapsed:  3.0min finished\n"
     ]
    },
    {
     "name": "stdout",
     "output_type": "stream",
     "text": [
      "les meilleurs paramètres sont  {'batch_size': 40, 'epochs': 10}\n",
      "les meilleur score est  0.9892857142857143\n",
      "Confusion Matrix: \n",
      " [[81  0]\n",
      " [ 1 38]]\n",
      "Accuracy :  99.16666666666667\n",
      "Report : \n",
      "               precision    recall  f1-score   support\n",
      "\n",
      "           0       0.99      1.00      0.99        81\n",
      "           1       1.00      0.97      0.99        39\n",
      "\n",
      "   micro avg       0.99      0.99      0.99       120\n",
      "   macro avg       0.99      0.99      0.99       120\n",
      "weighted avg       0.99      0.99      0.99       120\n",
      "\n",
      "avg accuracy : 0.9925000011920929\n"
     ]
    }
   ],
   "source": [
    "import numpy as np \n",
    "import pandas as pd\n",
    "import models as m\n",
    "from model_selection import *\n",
    "from sklearn.preprocessing import label_binarize\n",
    "import argparse\n",
    "\n",
    "parser = argparse.ArgumentParser('Parameter tuning for classification on a defined dataset')\n",
    "parser.add_argument('--path', type=str, default='none')\n",
    "parser.add_argument('--target_name', type=str, default='Class')\n",
    "parser.add_argument('--test_size', type=float, default=0.3)\n",
    "parser.add_argument('--train', type=bool, default='true')\n",
    "parser.add_argument('--batch_size', type=int, default=70)\n",
    "parser.add_argument('--epochs', type=int, default=15)\n",
    "parser.add_argument('--model_name', type=str, default='MLP')\n",
    "parser.add_argument('--finetune', type=bool, default='false')\n",
    "\n",
    "\n",
    "args = parser.parse_args()\n",
    "\n",
    "path = args.path\n",
    "target_name = args.target_name\n",
    "test_size =args.test_size\n",
    "train = args.train\n",
    "epochs = args.epochs\n",
    "batch_size = args.batch_size\n",
    "model_name = args.model_name\n",
    "finetune = model.finetune\n",
    "\n",
    "df, X, y, X_train, X_test, y_train, y_test = load_data(path, target_name, test_size)\n",
    "y_train = label_binarize(y_train, classes = ['ckd', 'notckd'])\n",
    "y_test = label_binarize(y_test, classes = ['ckd', 'notckd'])\n",
    "\n",
    "models = {'MLP': {'build_fn':lambda : m.build_MLP((24,)),'params': param_grid_MLP},\n",
    "          'Decision_tree' : { 'build_fn':m.DecisionTreeModel( train = False),'params': param_grid_Dt}         \n",
    "         }\n",
    "param_grid_MLP = {\n",
    "              'epochs':[5, 10, 15 ],\n",
    "              'batch_size':[ 70, 50, 60, 40],\n",
    "              \n",
    "              #'batch_size' :          [32, 128],\n",
    "              #'optimizer' :           ['Adam'],\n",
    "              #'dropout_rate' :        [0.1, 0.2, 0.3],\n",
    "              #'activation' :          ['relu', 'elu']\n",
    "             }\n",
    "param_grid_Dt = {'criterion': ['gini', 'entropy'],  \n",
    "              'max_depth' : range(3,14),\n",
    "              'min_samples_leaf': range(3,4) } \n",
    "\n",
    "\n",
    "if finetune :\n",
    "    \n",
    "    model = models[model_name]['build_fn']\n",
    "    param_grid = models[model_name]['params']\n",
    "    gs, fitted_model, pred = search_pipeline(X_train, X_test, y_train,  model, param_grid ,scoring_fit = 'accuracy', is_keras_model = True )\n",
    "    best_parameters = get_best_parameters(gs )\n",
    "    y_pred = m.predict(fitted_model, X_test)\n",
    "    accuracy(y_test, y_pred>0.5)\n",
    "    results = cross_validation( model, X,y, n_splits=10, is_keras_model = True,  **best_parameters)\n",
    "\n",
    "             \n",
    "             \n",
    "\n"
   ]
  },
  {
   "cell_type": "code",
   "execution_count": 1,
   "metadata": {},
   "outputs": [
    {
     "name": "stdout",
     "output_type": "stream",
     "text": [
      "Using TensorFlow backend.\n",
      "X_train : (280, 24)  y_train : (280,) X_test :  (120, 24) y test :  (120,)\n",
      "2019-12-02 00:53:23.172335: I tensorflow/core/platform/cpu_feature_guard.cc:142] Your CPU supports instructions that this TensorFlow binary was not compiled to use: AVX2 FMA\n",
      "2019-12-02 00:53:23.183991: I tensorflow/compiler/xla/service/service.cc:168] XLA service 0x7f9aa4b5c710 executing computations on platform Host. Devices:\n",
      "2019-12-02 00:53:23.184012: I tensorflow/compiler/xla/service/service.cc:175]   StreamExecutor device (0): Host, Default Version\n",
      "Fitting 10 folds for each of 12 candidates, totalling 120 fits\n",
      "[Parallel(n_jobs=-1)]: Using backend LokyBackend with 4 concurrent workers.\n",
      "Using TensorFlow backend.\n",
      "Using TensorFlow backend.\n",
      "Using TensorFlow backend.\n",
      "Using TensorFlow backend.\n",
      "2019-12-02 00:53:27.780824: I tensorflow/core/platform/cpu_feature_guard.cc:142] Your CPU supports instructions that this TensorFlow binary was not compiled to use: AVX2 FMA\n",
      "2019-12-02 00:53:27.780854: I tensorflow/core/platform/cpu_feature_guard.cc:142] Your CPU supports instructions that this TensorFlow binary was not compiled to use: AVX2 FMA\n",
      "2019-12-02 00:53:27.814988: I tensorflow/compiler/xla/service/service.cc:168] XLA service 0x7f9f3873dd00 executing computations on platform Host. Devices:\n",
      "2019-12-02 00:53:27.815134: I tensorflow/compiler/xla/service/service.cc:175]   StreamExecutor device (0): Host, Default Version\n",
      "2019-12-02 00:53:27.820146: I tensorflow/core/platform/cpu_feature_guard.cc:142] Your CPU supports instructions that this TensorFlow binary was not compiled to use: AVX2 FMA\n",
      "2019-12-02 00:53:27.820509: I tensorflow/compiler/xla/service/service.cc:168] XLA service 0x7fd0a3a5e2d0 executing computations on platform Host. Devices:\n",
      "2019-12-02 00:53:27.820554: I tensorflow/compiler/xla/service/service.cc:175]   StreamExecutor device (0): Host, Default Version\n",
      "2019-12-02 00:53:27.843539: I tensorflow/compiler/xla/service/service.cc:168] XLA service 0x7fc51579d140 executing computations on platform Host. Devices:\n",
      "2019-12-02 00:53:27.843564: I tensorflow/compiler/xla/service/service.cc:175]   StreamExecutor device (0): Host, Default Version\n",
      "2019-12-02 00:53:27.992677: I tensorflow/core/platform/cpu_feature_guard.cc:142] Your CPU supports instructions that this TensorFlow binary was not compiled to use: AVX2 FMA\n",
      "2019-12-02 00:53:28.018799: I tensorflow/compiler/xla/service/service.cc:168] XLA service 0x7ff8d5a3a710 executing computations on platform Host. Devices:\n",
      "2019-12-02 00:53:28.018828: I tensorflow/compiler/xla/service/service.cc:175]   StreamExecutor device (0): Host, Default Version\n",
      "[CV] batch_size=70, epochs=5 .........................................\n",
      "[CV] batch_size=70, epochs=5 .........................................\n",
      "[CV] batch_size=70, epochs=5 .........................................\n",
      "[CV] batch_size=70, epochs=5 .........................................\n",
      "[CV] .......................... batch_size=70, epochs=5, total=   3.6s\n",
      "[CV] .......................... batch_size=70, epochs=5, total=   3.6s\n",
      "[CV] .......................... batch_size=70, epochs=5, total=   3.6s\n",
      "[CV] .......................... batch_size=70, epochs=5, total=   3.6s\n",
      "[CV] batch_size=70, epochs=5 .........................................\n",
      "[CV] batch_size=70, epochs=5 .........................................\n",
      "[CV] batch_size=70, epochs=5 .........................................\n",
      "[CV] batch_size=70, epochs=5 .........................................\n",
      "[CV] .......................... batch_size=70, epochs=5, total=   3.5s\n",
      "[CV] .......................... batch_size=70, epochs=5, total=   3.5s\n",
      "[CV] .......................... batch_size=70, epochs=5, total=   3.6s\n",
      "[CV] .......................... batch_size=70, epochs=5, total=   3.6s\n",
      "[CV] batch_size=70, epochs=5 .........................................\n",
      "[CV] batch_size=70, epochs=5 .........................................\n",
      "[CV] batch_size=70, epochs=10 ........................................\n",
      "[CV] batch_size=70, epochs=10 ........................................\n",
      "[CV] .......................... batch_size=70, epochs=5, total=   3.8s\n",
      "[CV] .......................... batch_size=70, epochs=5, total=   3.7s\n",
      "[CV] ......................... batch_size=70, epochs=10, total=   3.8s\n",
      "[CV] ......................... batch_size=70, epochs=10, total=   3.8s\n",
      "[CV] batch_size=70, epochs=10 ........................................\n",
      "[CV] batch_size=70, epochs=10 ........................................\n",
      "/anaconda3/lib/python3.7/site-packages/sklearn/externals/joblib/externals/loky/process_executor.py:706: UserWarning: A worker stopped while some jobs were given to the executor. This can be caused by a too short worker timeout or by a memory leak.\n",
      "  \"timeout or by a memory leak.\", UserWarning\n",
      "Using TensorFlow backend.\n",
      "Using TensorFlow backend.\n",
      "[CV] ......................... batch_size=70, epochs=10, total=   4.0s\n",
      "[CV] ......................... batch_size=70, epochs=10, total=   3.9s\n",
      "2019-12-02 00:53:45.652536: I tensorflow/core/platform/cpu_feature_guard.cc:142] Your CPU supports instructions that this TensorFlow binary was not compiled to use: AVX2 FMA\n",
      "2019-12-02 00:53:45.652934: I tensorflow/core/platform/cpu_feature_guard.cc:142] Your CPU supports instructions that this TensorFlow binary was not compiled to use: AVX2 FMA\n",
      "2019-12-02 00:53:45.673712: I tensorflow/compiler/xla/service/service.cc:168] XLA service 0x7fada8b23170 executing computations on platform Host. Devices:\n",
      "2019-12-02 00:53:45.673797: I tensorflow/compiler/xla/service/service.cc:175]   StreamExecutor device (0): Host, Default Version\n",
      "2019-12-02 00:53:45.674944: I tensorflow/compiler/xla/service/service.cc:168] XLA service 0x7fa24ca5d530 executing computations on platform Host. Devices:\n",
      "2019-12-02 00:53:45.674968: I tensorflow/compiler/xla/service/service.cc:175]   StreamExecutor device (0): Host, Default Version\n",
      "[CV] batch_size=70, epochs=10 ........................................\n",
      "[CV] batch_size=70, epochs=10 ........................................\n",
      "Using TensorFlow backend.\n",
      "Using TensorFlow backend.\n",
      "2019-12-02 00:53:48.902323: I tensorflow/core/platform/cpu_feature_guard.cc:142] Your CPU supports instructions that this TensorFlow binary was not compiled to use: AVX2 FMA\n",
      "2019-12-02 00:53:48.923491: I tensorflow/compiler/xla/service/service.cc:168] XLA service 0x7fa36aaa40f0 executing computations on platform Host. Devices:\n",
      "2019-12-02 00:53:48.923570: I tensorflow/compiler/xla/service/service.cc:175]   StreamExecutor device (0): Host, Default Version\n",
      "[CV] ......................... batch_size=70, epochs=10, total=   3.4s\n",
      "[CV] batch_size=70, epochs=10 ........................................\n",
      "[CV] ......................... batch_size=70, epochs=10, total=   3.4s\n",
      "[CV] batch_size=70, epochs=10 ........................................\n",
      "[CV] batch_size=70, epochs=10 ........................................\n",
      "2019-12-02 00:53:50.008998: I tensorflow/core/platform/cpu_feature_guard.cc:142] Your CPU supports instructions that this TensorFlow binary was not compiled to use: AVX2 FMA\n",
      "2019-12-02 00:53:50.034543: I tensorflow/compiler/xla/service/service.cc:168] XLA service 0x7fa637306ae0 executing computations on platform Host. Devices:\n",
      "2019-12-02 00:53:50.034983: I tensorflow/compiler/xla/service/service.cc:175]   StreamExecutor device (0): Host, Default Version\n",
      "[CV] batch_size=70, epochs=10 ........................................\n",
      "[CV] ......................... batch_size=70, epochs=10, total=   3.7s\n",
      "[CV] batch_size=70, epochs=15 ........................................\n",
      "[CV] ......................... batch_size=70, epochs=10, total=   3.8s\n",
      "[CV] ......................... batch_size=70, epochs=10, total=   3.8s\n",
      "[CV] batch_size=70, epochs=15 ........................................\n",
      "[CV] batch_size=70, epochs=15 ........................................\n",
      "[CV] ......................... batch_size=70, epochs=10, total=   3.7s\n",
      "[CV] batch_size=70, epochs=15 ........................................\n",
      "[CV] ......................... batch_size=70, epochs=15, total=   3.4s\n",
      "[CV] batch_size=70, epochs=15 ........................................\n",
      "[CV] ......................... batch_size=70, epochs=15, total=   3.8s\n"
     ]
    },
    {
     "name": "stdout",
     "output_type": "stream",
     "text": [
      "[CV] ......................... batch_size=70, epochs=15, total=   3.9s\n",
      "[CV] ......................... batch_size=70, epochs=15, total=   3.6s\n",
      "[CV] batch_size=70, epochs=15 ........................................\n",
      "Using TensorFlow backend.\n",
      "Using TensorFlow backend.\n",
      "[CV] ......................... batch_size=70, epochs=15, total=   4.0s\n",
      "[CV] ......................... batch_size=70, epochs=15, total=   3.8s\n",
      "2019-12-02 00:54:02.826044: I tensorflow/core/platform/cpu_feature_guard.cc:142] Your CPU supports instructions that this TensorFlow binary was not compiled to use: AVX2 FMA\n",
      "2019-12-02 00:54:02.844904: I tensorflow/compiler/xla/service/service.cc:168] XLA service 0x7f80a223d710 executing computations on platform Host. Devices:\n",
      "2019-12-02 00:54:02.844976: I tensorflow/compiler/xla/service/service.cc:175]   StreamExecutor device (0): Host, Default Version\n",
      "[CV] batch_size=70, epochs=15 ........................................\n",
      "Using TensorFlow backend.\n",
      "2019-12-02 00:54:03.654203: I tensorflow/core/platform/cpu_feature_guard.cc:142] Your CPU supports instructions that this TensorFlow binary was not compiled to use: AVX2 FMA\n",
      "2019-12-02 00:54:03.676035: I tensorflow/compiler/xla/service/service.cc:168] XLA service 0x7fdf4fdb7e50 executing computations on platform Host. Devices:\n",
      "2019-12-02 00:54:03.676060: I tensorflow/compiler/xla/service/service.cc:175]   StreamExecutor device (0): Host, Default Version\n",
      "[CV] batch_size=70, epochs=15 ........................................\n",
      "Using TensorFlow backend.\n",
      "2019-12-02 00:54:06.347859: I tensorflow/core/platform/cpu_feature_guard.cc:142] Your CPU supports instructions that this TensorFlow binary was not compiled to use: AVX2 FMA\n",
      "2019-12-02 00:54:06.371589: I tensorflow/compiler/xla/service/service.cc:168] XLA service 0x7f90847c3b50 executing computations on platform Host. Devices:\n",
      "2019-12-02 00:54:06.371675: I tensorflow/compiler/xla/service/service.cc:175]   StreamExecutor device (0): Host, Default Version\n",
      "[CV] batch_size=70, epochs=15 ........................................\n",
      "[CV] ......................... batch_size=70, epochs=15, total=   3.5s\n",
      "[CV] batch_size=50, epochs=5 .........................................\n",
      "2019-12-02 00:54:07.333265: I tensorflow/core/platform/cpu_feature_guard.cc:142] Your CPU supports instructions that this TensorFlow binary was not compiled to use: AVX2 FMA\n",
      "2019-12-02 00:54:07.353258: I tensorflow/compiler/xla/service/service.cc:168] XLA service 0x7f832c6b6660 executing computations on platform Host. Devices:\n",
      "2019-12-02 00:54:07.353285: I tensorflow/compiler/xla/service/service.cc:175]   StreamExecutor device (0): Host, Default Version\n",
      "[CV] ......................... batch_size=70, epochs=15, total=   3.5s\n",
      "[CV] batch_size=70, epochs=15 ........................................\n",
      "[CV] batch_size=50, epochs=5 .........................................\n",
      "[CV] ......................... batch_size=70, epochs=15, total=   3.7s\n",
      "[CV] batch_size=50, epochs=5 .........................................\n",
      "[CV] .......................... batch_size=50, epochs=5, total=   3.8s\n",
      "[CV] batch_size=50, epochs=5 .........................................\n",
      "[CV] ......................... batch_size=70, epochs=15, total=   3.6s\n",
      "[CV] .......................... batch_size=50, epochs=5, total=   3.6s\n",
      "[CV] batch_size=50, epochs=5 .........................................\n",
      "[CV] batch_size=50, epochs=5 .........................................\n",
      "[CV] .......................... batch_size=50, epochs=5, total=   3.8s\n",
      "[Parallel(n_jobs=-1)]: Done  33 tasks      | elapsed:   51.2s\n",
      "[CV] batch_size=50, epochs=5 .........................................\n",
      "[CV] .......................... batch_size=50, epochs=5, total=   3.9s\n",
      "[CV] .......................... batch_size=50, epochs=5, total=   3.8s\n",
      "[CV] .......................... batch_size=50, epochs=5, total=   3.9s\n",
      "[CV] batch_size=50, epochs=5 .........................................\n",
      "Using TensorFlow backend.\n",
      "Using TensorFlow backend.\n",
      "[CV] .......................... batch_size=50, epochs=5, total=   3.6s\n",
      "[CV] .......................... batch_size=50, epochs=5, total=   3.4s\n",
      "2019-12-02 00:54:19.903248: I tensorflow/core/platform/cpu_feature_guard.cc:142] Your CPU supports instructions that this TensorFlow binary was not compiled to use: AVX2 FMA\n",
      "2019-12-02 00:54:19.920117: I tensorflow/compiler/xla/service/service.cc:168] XLA service 0x7faf0becef30 executing computations on platform Host. Devices:\n",
      "2019-12-02 00:54:19.920144: I tensorflow/compiler/xla/service/service.cc:175]   StreamExecutor device (0): Host, Default Version\n",
      "[CV] batch_size=50, epochs=5 .........................................\n",
      "Using TensorFlow backend.\n",
      "2019-12-02 00:54:20.675332: I tensorflow/core/platform/cpu_feature_guard.cc:142] Your CPU supports instructions that this TensorFlow binary was not compiled to use: AVX2 FMA\n",
      "2019-12-02 00:54:20.698870: I tensorflow/compiler/xla/service/service.cc:168] XLA service 0x7fda7a0b00f0 executing computations on platform Host. Devices:\n",
      "2019-12-02 00:54:20.698945: I tensorflow/compiler/xla/service/service.cc:175]   StreamExecutor device (0): Host, Default Version\n",
      "[CV] batch_size=50, epochs=5 .........................................\n",
      "Using TensorFlow backend.\n",
      "2019-12-02 00:54:23.063366: I tensorflow/core/platform/cpu_feature_guard.cc:142] Your CPU supports instructions that this TensorFlow binary was not compiled to use: AVX2 FMA\n",
      "2019-12-02 00:54:23.084861: I tensorflow/compiler/xla/service/service.cc:168] XLA service 0x7fac0bf9d110 executing computations on platform Host. Devices:\n",
      "2019-12-02 00:54:23.085282: I tensorflow/compiler/xla/service/service.cc:175]   StreamExecutor device (0): Host, Default Version\n",
      "[CV] .......................... batch_size=50, epochs=5, total=   3.1s\n",
      "[CV] batch_size=50, epochs=10 ........................................\n",
      "[CV] batch_size=50, epochs=10 ........................................\n",
      "2019-12-02 00:54:24.242811: I tensorflow/core/platform/cpu_feature_guard.cc:142] Your CPU supports instructions that this TensorFlow binary was not compiled to use: AVX2 FMA\n",
      "[CV] .......................... batch_size=50, epochs=5, total=   3.3s\n",
      "2019-12-02 00:54:24.260553: I tensorflow/compiler/xla/service/service.cc:168] XLA service 0x7fef8cb954c0 executing computations on platform Host. Devices:\n",
      "2019-12-02 00:54:24.260633: I tensorflow/compiler/xla/service/service.cc:175]   StreamExecutor device (0): Host, Default Version\n",
      "[CV] batch_size=50, epochs=10 ........................................\n",
      "[CV] batch_size=50, epochs=10 ........................................\n",
      "[CV] ......................... batch_size=50, epochs=10, total=   3.4s\n",
      "[CV] ......................... batch_size=50, epochs=10, total=   3.4s\n",
      "[CV] batch_size=50, epochs=10 ........................................\n",
      "[CV] batch_size=50, epochs=10 ........................................\n",
      "[CV] ......................... batch_size=50, epochs=10, total=   3.4s\n",
      "[CV] ......................... batch_size=50, epochs=10, total=   3.5s\n",
      "[CV] batch_size=50, epochs=10 ........................................\n",
      "[CV] batch_size=50, epochs=10 ........................................\n",
      "[CV] ......................... batch_size=50, epochs=10, total=   3.5s\n",
      "[CV] batch_size=50, epochs=10 ........................................\n",
      "[CV] ......................... batch_size=50, epochs=10, total=   3.8s\n",
      "[CV] ......................... batch_size=50, epochs=10, total=   3.6s\n",
      "[CV] batch_size=50, epochs=10 ........................................\n",
      "[CV] ......................... batch_size=50, epochs=10, total=   3.9s\n",
      "Using TensorFlow backend.\n",
      "Using TensorFlow backend.\n",
      "[CV] ......................... batch_size=50, epochs=10, total=   3.9s\n",
      "[CV] ......................... batch_size=50, epochs=10, total=   3.7s\n",
      "2019-12-02 00:54:36.342664: I tensorflow/core/platform/cpu_feature_guard.cc:142] Your CPU supports instructions that this TensorFlow binary was not compiled to use: AVX2 FMA\n",
      "2019-12-02 00:54:36.361759: I tensorflow/compiler/xla/service/service.cc:168] XLA service 0x7f7fb85f6ed0 executing computations on platform Host. Devices:\n",
      "2019-12-02 00:54:36.361796: I tensorflow/compiler/xla/service/service.cc:175]   StreamExecutor device (0): Host, Default Version\n"
     ]
    },
    {
     "name": "stdout",
     "output_type": "stream",
     "text": [
      "[CV] batch_size=50, epochs=15 ........................................\n",
      "Using TensorFlow backend.\n",
      "2019-12-02 00:54:37.170615: I tensorflow/core/platform/cpu_feature_guard.cc:142] Your CPU supports instructions that this TensorFlow binary was not compiled to use: AVX2 FMA\n",
      "2019-12-02 00:54:37.190228: I tensorflow/compiler/xla/service/service.cc:168] XLA service 0x7fe1cd6ba380 executing computations on platform Host. Devices:\n",
      "2019-12-02 00:54:37.190252: I tensorflow/compiler/xla/service/service.cc:175]   StreamExecutor device (0): Host, Default Version\n",
      "[CV] batch_size=50, epochs=15 ........................................\n",
      "Using TensorFlow backend.\n",
      "2019-12-02 00:54:39.840214: I tensorflow/core/platform/cpu_feature_guard.cc:142] Your CPU supports instructions that this TensorFlow binary was not compiled to use: AVX2 FMA\n",
      "2019-12-02 00:54:39.861321: I tensorflow/compiler/xla/service/service.cc:168] XLA service 0x7fb4e8ee3070 executing computations on platform Host. Devices:\n",
      "2019-12-02 00:54:39.861346: I tensorflow/compiler/xla/service/service.cc:175]   StreamExecutor device (0): Host, Default Version\n",
      "[CV] ......................... batch_size=50, epochs=15, total=   3.3s\n",
      "[CV] batch_size=50, epochs=15 ........................................\n",
      "[CV] batch_size=50, epochs=15 ........................................\n",
      "2019-12-02 00:54:40.888251: I tensorflow/core/platform/cpu_feature_guard.cc:142] Your CPU supports instructions that this TensorFlow binary was not compiled to use: AVX2 FMA\n",
      "2019-12-02 00:54:40.907509: I tensorflow/compiler/xla/service/service.cc:168] XLA service 0x7ff43a91abb0 executing computations on platform Host. Devices:\n",
      "2019-12-02 00:54:40.907578: I tensorflow/compiler/xla/service/service.cc:175]   StreamExecutor device (0): Host, Default Version\n",
      "[CV] ......................... batch_size=50, epochs=15, total=   3.5s\n",
      "[CV] batch_size=50, epochs=15 ........................................\n",
      "[CV] batch_size=50, epochs=15 ........................................\n",
      "[CV] ......................... batch_size=50, epochs=15, total=   3.4s\n",
      "[CV] ......................... batch_size=50, epochs=15, total=   3.6s\n",
      "[CV] batch_size=50, epochs=15 ........................................\n",
      "[CV] batch_size=50, epochs=15 ........................................\n",
      "[CV] ......................... batch_size=50, epochs=15, total=   3.5s\n",
      "[CV] ......................... batch_size=50, epochs=15, total=   3.7s\n",
      "[CV] batch_size=50, epochs=15 ........................................\n",
      "[CV] batch_size=50, epochs=15 ........................................\n",
      "[CV] ......................... batch_size=50, epochs=15, total=   4.1s\n",
      "[CV] batch_size=60, epochs=5 .........................................\n",
      "[CV] ......................... batch_size=50, epochs=15, total=   4.6s\n",
      "[CV] ......................... batch_size=50, epochs=15, total=   4.4s\n",
      "[CV] batch_size=60, epochs=5 .........................................\n",
      "[CV] ......................... batch_size=50, epochs=15, total=   4.7s\n",
      "[CV] batch_size=60, epochs=5 .........................................\n",
      "Using TensorFlow backend.\n",
      "[CV] .......................... batch_size=60, epochs=5, total=   4.1s\n",
      "[CV] .......................... batch_size=60, epochs=5, total=   3.9s\n",
      "2019-12-02 00:54:54.262997: I tensorflow/core/platform/cpu_feature_guard.cc:142] Your CPU supports instructions that this TensorFlow binary was not compiled to use: AVX2 FMA\n",
      "2019-12-02 00:54:54.300767: I tensorflow/compiler/xla/service/service.cc:168] XLA service 0x7fb4020e9ed0 executing computations on platform Host. Devices:\n",
      "2019-12-02 00:54:54.300838: I tensorflow/compiler/xla/service/service.cc:175]   StreamExecutor device (0): Host, Default Version\n",
      "[CV] .......................... batch_size=60, epochs=5, total=   4.1s\n",
      "[CV] batch_size=60, epochs=5 .........................................\n",
      "Using TensorFlow backend.\n",
      "Using TensorFlow backend.\n",
      "Using TensorFlow backend.\n",
      "2019-12-02 00:54:57.976398: I tensorflow/core/platform/cpu_feature_guard.cc:142] Your CPU supports instructions that this TensorFlow binary was not compiled to use: AVX2 FMA\n",
      "2019-12-02 00:54:58.006243: I tensorflow/compiler/xla/service/service.cc:168] XLA service 0x7f86c009e7c0 executing computations on platform Host. Devices:\n",
      "2019-12-02 00:54:58.006388: I tensorflow/compiler/xla/service/service.cc:175]   StreamExecutor device (0): Host, Default Version\n",
      "[CV] .......................... batch_size=60, epochs=5, total=   3.5s\n",
      "[CV] batch_size=60, epochs=5 .........................................\n",
      "[CV] batch_size=60, epochs=5 .........................................\n",
      "2019-12-02 00:54:59.079222: I tensorflow/core/platform/cpu_feature_guard.cc:142] Your CPU supports instructions that this TensorFlow binary was not compiled to use: AVX2 FMA\n",
      "2019-12-02 00:54:59.108471: I tensorflow/compiler/xla/service/service.cc:168] XLA service 0x7f849f8533c0 executing computations on platform Host. Devices:\n",
      "2019-12-02 00:54:59.108500: I tensorflow/compiler/xla/service/service.cc:175]   StreamExecutor device (0): Host, Default Version\n",
      "[CV] batch_size=60, epochs=5 .........................................\n",
      "2019-12-02 00:55:00.115520: I tensorflow/core/platform/cpu_feature_guard.cc:142] Your CPU supports instructions that this TensorFlow binary was not compiled to use: AVX2 FMA\n",
      "2019-12-02 00:55:00.133794: I tensorflow/compiler/xla/service/service.cc:168] XLA service 0x7fd4ac19c370 executing computations on platform Host. Devices:\n",
      "2019-12-02 00:55:00.133818: I tensorflow/compiler/xla/service/service.cc:175]   StreamExecutor device (0): Host, Default Version\n",
      "[CV] batch_size=60, epochs=5 .........................................\n",
      "[CV] .......................... batch_size=60, epochs=5, total=   3.5s\n",
      "[CV] .......................... batch_size=60, epochs=5, total=   3.6s\n",
      "[CV] batch_size=60, epochs=5 .........................................\n",
      "[CV] batch_size=60, epochs=5 .........................................\n",
      "[CV] .......................... batch_size=60, epochs=5, total=   3.3s\n",
      "[CV] batch_size=60, epochs=10 ........................................\n",
      "[CV] .......................... batch_size=60, epochs=5, total=   3.3s\n",
      "[CV] batch_size=60, epochs=10 ........................................\n",
      "[CV] .......................... batch_size=60, epochs=5, total=   3.2s\n",
      "[CV] batch_size=60, epochs=10 ........................................\n",
      "[CV] .......................... batch_size=60, epochs=5, total=   3.5s\n",
      "[CV] ......................... batch_size=60, epochs=10, total=   3.3s\n",
      "[CV] batch_size=60, epochs=10 ........................................\n",
      "[CV] ......................... batch_size=60, epochs=10, total=   3.3s\n",
      "[CV] batch_size=60, epochs=10 ........................................\n",
      "Using TensorFlow backend.\n",
      "[CV] ......................... batch_size=60, epochs=10, total=   3.7s\n",
      "[CV] ......................... batch_size=60, epochs=10, total=   3.5s\n",
      "2019-12-02 00:55:11.316401: I tensorflow/core/platform/cpu_feature_guard.cc:142] Your CPU supports instructions that this TensorFlow binary was not compiled to use: AVX2 FMA\n",
      "2019-12-02 00:55:11.335391: I tensorflow/compiler/xla/service/service.cc:168] XLA service 0x7fa422676c30 executing computations on platform Host. Devices:\n",
      "2019-12-02 00:55:11.335465: I tensorflow/compiler/xla/service/service.cc:175]   StreamExecutor device (0): Host, Default Version\n",
      "[CV] ......................... batch_size=60, epochs=10, total=   3.6s\n",
      "Using TensorFlow backend.\n",
      "[CV] batch_size=60, epochs=10 ........................................\n",
      "Using TensorFlow backend.\n",
      "Using TensorFlow backend.\n",
      "2019-12-02 00:55:14.145047: I tensorflow/core/platform/cpu_feature_guard.cc:142] Your CPU supports instructions that this TensorFlow binary was not compiled to use: AVX2 FMA\n",
      "2019-12-02 00:55:14.162410: I tensorflow/compiler/xla/service/service.cc:168] XLA service 0x7fdeaa7cb8b0 executing computations on platform Host. Devices:\n",
      "2019-12-02 00:55:14.162482: I tensorflow/compiler/xla/service/service.cc:175]   StreamExecutor device (0): Host, Default Version\n",
      "[CV] batch_size=60, epochs=10 ........................................\n",
      "[CV] ......................... batch_size=60, epochs=10, total=   3.2s\n",
      "2019-12-02 00:55:15.044088: I tensorflow/core/platform/cpu_feature_guard.cc:142] Your CPU supports instructions that this TensorFlow binary was not compiled to use: AVX2 FMA\n",
      "2019-12-02 00:55:15.061853: I tensorflow/compiler/xla/service/service.cc:168] XLA service 0x7ff749304250 executing computations on platform Host. Devices:\n",
      "2019-12-02 00:55:15.061879: I tensorflow/compiler/xla/service/service.cc:175]   StreamExecutor device (0): Host, Default Version\n"
     ]
    },
    {
     "name": "stdout",
     "output_type": "stream",
     "text": [
      "[CV] batch_size=60, epochs=10 ........................................\n",
      "[CV] batch_size=60, epochs=10 ........................................\n",
      "2019-12-02 00:55:16.078498: I tensorflow/core/platform/cpu_feature_guard.cc:142] Your CPU supports instructions that this TensorFlow binary was not compiled to use: AVX2 FMA\n",
      "2019-12-02 00:55:16.095793: I tensorflow/compiler/xla/service/service.cc:168] XLA service 0x7f96b3f7b3d0 executing computations on platform Host. Devices:\n",
      "2019-12-02 00:55:16.095819: I tensorflow/compiler/xla/service/service.cc:175]   StreamExecutor device (0): Host, Default Version\n",
      "[CV] batch_size=60, epochs=10 ........................................\n",
      "[CV] ......................... batch_size=60, epochs=10, total=   3.4s\n",
      "[CV] batch_size=60, epochs=15 ........................................\n",
      "[CV] ......................... batch_size=60, epochs=10, total=   3.6s\n",
      "[CV] ......................... batch_size=60, epochs=10, total=   3.6s\n",
      "[CV] batch_size=60, epochs=15 ........................................\n",
      "[CV] batch_size=60, epochs=15 ........................................\n",
      "[CV] ......................... batch_size=60, epochs=10, total=   3.8s\n",
      "[CV] batch_size=60, epochs=15 ........................................\n",
      "[CV] ......................... batch_size=60, epochs=15, total=   3.9s\n",
      "[CV] batch_size=60, epochs=15 ........................................\n",
      "[CV] ......................... batch_size=60, epochs=15, total=   3.8s\n",
      "[CV] ......................... batch_size=60, epochs=15, total=   4.1s\n",
      "[CV] batch_size=60, epochs=15 ........................................\n",
      "[CV] ......................... batch_size=60, epochs=15, total=   3.7s\n",
      "[CV] batch_size=60, epochs=15 ........................................\n",
      "Using TensorFlow backend.\n",
      "[CV] ......................... batch_size=60, epochs=15, total=   4.2s\n",
      "[CV] batch_size=60, epochs=15 ........................................\n",
      "[CV] ......................... batch_size=60, epochs=15, total=   4.1s\n",
      "[CV] ......................... batch_size=60, epochs=15, total=   4.0s\n",
      "2019-12-02 00:55:29.630653: I tensorflow/core/platform/cpu_feature_guard.cc:142] Your CPU supports instructions that this TensorFlow binary was not compiled to use: AVX2 FMA\n",
      "2019-12-02 00:55:29.649371: I tensorflow/compiler/xla/service/service.cc:168] XLA service 0x7ff0bc049710 executing computations on platform Host. Devices:\n",
      "2019-12-02 00:55:29.649395: I tensorflow/compiler/xla/service/service.cc:175]   StreamExecutor device (0): Host, Default Version\n",
      "[CV] batch_size=60, epochs=15 ........................................\n",
      "Using TensorFlow backend.\n",
      "Using TensorFlow backend.\n",
      "[CV] ......................... batch_size=60, epochs=15, total=   4.5s\n",
      "2019-12-02 00:55:33.309649: I tensorflow/core/platform/cpu_feature_guard.cc:142] Your CPU supports instructions that this TensorFlow binary was not compiled to use: AVX2 FMA\n",
      "2019-12-02 00:55:33.364000: I tensorflow/compiler/xla/service/service.cc:168] XLA service 0x7fcff6a1b4c0 executing computations on platform Host. Devices:\n",
      "2019-12-02 00:55:33.364026: I tensorflow/compiler/xla/service/service.cc:175]   StreamExecutor device (0): Host, Default Version\n",
      "[CV] batch_size=60, epochs=15 ........................................\n",
      "[CV] ......................... batch_size=60, epochs=15, total=   4.1s\n",
      "Using TensorFlow backend.\n",
      "[CV] batch_size=40, epochs=5 .........................................\n",
      "2019-12-02 00:55:34.536776: I tensorflow/core/platform/cpu_feature_guard.cc:142] Your CPU supports instructions that this TensorFlow binary was not compiled to use: AVX2 FMA\n",
      "2019-12-02 00:55:34.555601: I tensorflow/compiler/xla/service/service.cc:168] XLA service 0x7fec307d8ce0 executing computations on platform Host. Devices:\n",
      "2019-12-02 00:55:34.556337: I tensorflow/compiler/xla/service/service.cc:175]   StreamExecutor device (0): Host, Default Version\n",
      "[CV] batch_size=40, epochs=5 .........................................\n",
      "2019-12-02 00:55:37.087870: I tensorflow/core/platform/cpu_feature_guard.cc:142] Your CPU supports instructions that this TensorFlow binary was not compiled to use: AVX2 FMA\n",
      "2019-12-02 00:55:37.111232: I tensorflow/compiler/xla/service/service.cc:168] XLA service 0x7fdd1268eaa0 executing computations on platform Host. Devices:\n",
      "2019-12-02 00:55:37.111259: I tensorflow/compiler/xla/service/service.cc:175]   StreamExecutor device (0): Host, Default Version\n",
      "[CV] ......................... batch_size=60, epochs=15, total=   3.4s\n",
      "[CV] batch_size=40, epochs=5 .........................................\n",
      "[CV] batch_size=40, epochs=5 .........................................\n",
      "[CV] .......................... batch_size=40, epochs=5, total=   3.4s\n",
      "[CV] .......................... batch_size=40, epochs=5, total=   3.3s\n",
      "[CV] batch_size=40, epochs=5 .........................................\n",
      "[CV] batch_size=40, epochs=5 .........................................\n",
      "[CV] .......................... batch_size=40, epochs=5, total=   3.5s\n",
      "[CV] .......................... batch_size=40, epochs=5, total=   3.6s\n",
      "[CV] batch_size=40, epochs=5 .........................................\n",
      "[CV] batch_size=40, epochs=5 .........................................\n",
      "[CV] .......................... batch_size=40, epochs=5, total=   4.1s\n",
      "[CV] .......................... batch_size=40, epochs=5, total=   4.0s\n",
      "[CV] batch_size=40, epochs=5 .........................................\n",
      "[CV] batch_size=40, epochs=5 .........................................\n",
      "[CV] .......................... batch_size=40, epochs=5, total=   4.0s\n",
      "[CV] batch_size=40, epochs=10 ........................................\n",
      "[CV] .......................... batch_size=40, epochs=5, total=   4.2s\n",
      "[CV] batch_size=40, epochs=10 ........................................\n",
      "[CV] .......................... batch_size=40, epochs=5, total=   4.2s\n",
      "[CV] .......................... batch_size=40, epochs=5, total=   4.4s\n",
      "[CV] batch_size=40, epochs=10 ........................................\n",
      "[CV] ......................... batch_size=40, epochs=10, total=   4.8s\n",
      "Using TensorFlow backend.\n",
      "[CV] batch_size=40, epochs=10 ........................................\n",
      "[CV] ......................... batch_size=40, epochs=10, total=   5.2s\n",
      "[CV] ......................... batch_size=40, epochs=10, total=   5.4s\n",
      "Using TensorFlow backend.\n",
      "2019-12-02 00:55:55.433422: I tensorflow/core/platform/cpu_feature_guard.cc:142] Your CPU supports instructions that this TensorFlow binary was not compiled to use: AVX2 FMA\n",
      "2019-12-02 00:55:55.462879: I tensorflow/compiler/xla/service/service.cc:168] XLA service 0x7f99421c8150 executing computations on platform Host. Devices:\n",
      "2019-12-02 00:55:55.463101: I tensorflow/compiler/xla/service/service.cc:175]   StreamExecutor device (0): Host, Default Version\n",
      "[CV] batch_size=40, epochs=10 ........................................\n",
      "Using TensorFlow backend.\n",
      "[CV] ......................... batch_size=40, epochs=10, total=   5.7s\n",
      "2019-12-02 00:55:58.252080: I tensorflow/core/platform/cpu_feature_guard.cc:142] Your CPU supports instructions that this TensorFlow binary was not compiled to use: AVX2 FMA\n",
      "2019-12-02 00:55:58.281354: I tensorflow/compiler/xla/service/service.cc:168] XLA service 0x7feef9877530 executing computations on platform Host. Devices:\n",
      "2019-12-02 00:55:58.281382: I tensorflow/compiler/xla/service/service.cc:175]   StreamExecutor device (0): Host, Default Version\n",
      "[CV] batch_size=40, epochs=10 ........................................\n",
      "Using TensorFlow backend.\n",
      "2019-12-02 00:55:59.705028: I tensorflow/core/platform/cpu_feature_guard.cc:142] Your CPU supports instructions that this TensorFlow binary was not compiled to use: AVX2 FMA\n",
      "2019-12-02 00:55:59.728023: I tensorflow/compiler/xla/service/service.cc:168] XLA service 0x7fd7d624ada0 executing computations on platform Host. Devices:\n",
      "2019-12-02 00:55:59.728665: I tensorflow/compiler/xla/service/service.cc:175]   StreamExecutor device (0): Host, Default Version\n",
      "[CV] batch_size=40, epochs=10 ........................................\n",
      "[CV] ......................... batch_size=40, epochs=10, total=   4.5s\n",
      "[CV] batch_size=40, epochs=10 ........................................\n",
      "[CV] ......................... batch_size=40, epochs=10, total=   4.8s\n"
     ]
    },
    {
     "name": "stdout",
     "output_type": "stream",
     "text": [
      "2019-12-02 00:56:03.814578: I tensorflow/core/platform/cpu_feature_guard.cc:142] Your CPU supports instructions that this TensorFlow binary was not compiled to use: AVX2 FMA\n",
      "2019-12-02 00:56:03.846014: I tensorflow/compiler/xla/service/service.cc:168] XLA service 0x7f879bba6c70 executing computations on platform Host. Devices:\n",
      "2019-12-02 00:56:03.846096: I tensorflow/compiler/xla/service/service.cc:175]   StreamExecutor device (0): Host, Default Version\n",
      "[CV] batch_size=40, epochs=10 ........................................\n",
      "[CV] batch_size=40, epochs=10 ........................................\n",
      "[CV] ......................... batch_size=40, epochs=10, total=   5.2s\n",
      "[CV] batch_size=40, epochs=15 ........................................\n",
      "[CV] ......................... batch_size=40, epochs=10, total=   5.4s\n",
      "[CV] batch_size=40, epochs=15 ........................................\n",
      "[CV] ......................... batch_size=40, epochs=10, total=   5.7s\n",
      "[CV] ......................... batch_size=40, epochs=10, total=   5.6s\n",
      "[CV] batch_size=40, epochs=15 ........................................\n",
      "[CV] batch_size=40, epochs=15 ........................................\n",
      "[CV] ......................... batch_size=40, epochs=15, total=   5.1s\n",
      "[CV] batch_size=40, epochs=15 ........................................\n",
      "[CV] ......................... batch_size=40, epochs=15, total=   5.1s\n",
      "[CV] ......................... batch_size=40, epochs=15, total=   4.5s\n",
      "Using TensorFlow backend.\n",
      "[CV] ......................... batch_size=40, epochs=15, total=   4.9s\n",
      "[CV] batch_size=40, epochs=15 ........................................\n",
      "[CV] ......................... batch_size=40, epochs=15, total=   4.8s\n",
      "Using TensorFlow backend.\n",
      "2019-12-02 00:56:18.769777: I tensorflow/core/platform/cpu_feature_guard.cc:142] Your CPU supports instructions that this TensorFlow binary was not compiled to use: AVX2 FMA\n",
      "2019-12-02 00:56:18.792082: I tensorflow/compiler/xla/service/service.cc:168] XLA service 0x7fc3f3a6b200 executing computations on platform Host. Devices:\n",
      "2019-12-02 00:56:18.792158: I tensorflow/compiler/xla/service/service.cc:175]   StreamExecutor device (0): Host, Default Version\n",
      "Using TensorFlow backend.\n",
      "[CV] batch_size=40, epochs=15 ........................................\n",
      "[CV] ......................... batch_size=40, epochs=15, total=   4.7s\n",
      "2019-12-02 00:56:20.895081: I tensorflow/core/platform/cpu_feature_guard.cc:142] Your CPU supports instructions that this TensorFlow binary was not compiled to use: AVX2 FMA\n",
      "2019-12-02 00:56:20.914347: I tensorflow/compiler/xla/service/service.cc:168] XLA service 0x7fe3699da3d0 executing computations on platform Host. Devices:\n",
      "2019-12-02 00:56:20.914375: I tensorflow/compiler/xla/service/service.cc:175]   StreamExecutor device (0): Host, Default Version\n",
      "[CV] batch_size=40, epochs=15 ........................................\n",
      "2019-12-02 00:56:22.557812: I tensorflow/core/platform/cpu_feature_guard.cc:142] Your CPU supports instructions that this TensorFlow binary was not compiled to use: AVX2 FMA\n",
      "Using TensorFlow backend.\n",
      "2019-12-02 00:56:22.591286: I tensorflow/compiler/xla/service/service.cc:168] XLA service 0x7f884677c8b0 executing computations on platform Host. Devices:\n",
      "2019-12-02 00:56:22.591311: I tensorflow/compiler/xla/service/service.cc:175]   StreamExecutor device (0): Host, Default Version\n",
      "[CV] batch_size=40, epochs=15 ........................................\n",
      "[CV] ......................... batch_size=40, epochs=15, total=   4.7s\n",
      "[CV] ......................... batch_size=40, epochs=15, total=   4.1s\n",
      "2019-12-02 00:56:25.603540: I tensorflow/core/platform/cpu_feature_guard.cc:142] Your CPU supports instructions that this TensorFlow binary was not compiled to use: AVX2 FMA\n",
      "2019-12-02 00:56:25.619054: I tensorflow/compiler/xla/service/service.cc:168] XLA service 0x7fdfbba4de60 executing computations on platform Host. Devices:\n",
      "2019-12-02 00:56:25.619074: I tensorflow/compiler/xla/service/service.cc:175]   StreamExecutor device (0): Host, Default Version\n",
      "[CV] batch_size=40, epochs=15 ........................................\n",
      "[CV] ......................... batch_size=40, epochs=15, total=   3.3s\n",
      "[CV] ......................... batch_size=40, epochs=15, total=   2.3s\n",
      "[Parallel(n_jobs=-1)]: Done 120 out of 120 | elapsed:  3.1min finished\n",
      "les meilleurs paramètres sont  {'batch_size': 70, 'epochs': 15}\n",
      "les meilleur score est  0.9892857142857143\n",
      "Confusion Matrix: \n",
      " [[79  2]\n",
      " [ 0 39]]\n",
      "Accuracy :  98.33333333333333\n",
      "Report : \n",
      "               precision    recall  f1-score   support\n",
      "\n",
      "           0       1.00      0.98      0.99        81\n",
      "           1       0.95      1.00      0.97        39\n",
      "\n",
      "   micro avg       0.98      0.98      0.98       120\n",
      "   macro avg       0.98      0.99      0.98       120\n",
      "weighted avg       0.98      0.98      0.98       120\n",
      "\n",
      "Using Keras classifier\n",
      "avg accuracy : 0.9550000071525574\n"
     ]
    }
   ],
   "source": [
    "!python3 classify.py --path './data/preprocessed.csv' --model_name 'MLP' --finetune True"
   ]
  },
  {
   "cell_type": "code",
   "execution_count": 29,
   "metadata": {},
   "outputs": [
    {
     "data": {
      "text/plain": [
       "array([1.        , 0.97500002, 1.        , 1.        , 1.        ,\n",
       "       0.94999999, 1.        , 1.        , 1.        , 1.        ])"
      ]
     },
     "execution_count": 29,
     "metadata": {},
     "output_type": "execute_result"
    }
   ],
   "source": [
    "results"
   ]
  },
  {
   "cell_type": "code",
   "execution_count": null,
   "metadata": {},
   "outputs": [],
   "source": []
  }
 ],
 "metadata": {
  "kernelspec": {
   "display_name": "Python 3",
   "language": "python",
   "name": "python3"
  },
  "language_info": {
   "codemirror_mode": {
    "name": "ipython",
    "version": 3
   },
   "file_extension": ".py",
   "mimetype": "text/x-python",
   "name": "python",
   "nbconvert_exporter": "python",
   "pygments_lexer": "ipython3",
   "version": "3.7.0"
  }
 },
 "nbformat": 4,
 "nbformat_minor": 2
}
